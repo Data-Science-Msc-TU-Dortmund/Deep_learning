{
 "cells": [
  {
   "cell_type": "markdown",
   "id": "262bbb79",
   "metadata": {
    "pycharm": {
     "name": "#%% md\n"
    }
   },
   "source": [
    "# Deep Learning - Lab Session 6\n",
    "\n",
    "**Winter Semester 2022/23**\n",
    "\n",
    "\n",
    "Welcome to the sixth lab, which is focused on convolutions and convolutional neural\n",
    "networks. The first exercise shows how to train CNNs with Keras, while the second\n",
    "exercise is about implementing convolutions for black-and-white images.\n",
    "The third exercise is about computing the gradients of the convolution operator.\n",
    "\n",
    "## Imports"
   ]
  },
  {
   "cell_type": "code",
   "execution_count": 1,
   "id": "ffbbb941",
   "metadata": {
    "execution": {
     "iopub.execute_input": "2022-11-17T08:08:05.046732Z",
     "iopub.status.busy": "2022-11-17T08:08:05.045756Z",
     "iopub.status.idle": "2022-11-17T08:08:06.475766Z",
     "shell.execute_reply": "2022-11-17T08:08:06.475252Z"
    },
    "pycharm": {
     "name": "#%%\n"
    }
   },
   "outputs": [],
   "source": [
    "from io import BytesIO\n",
    "from math import ceil\n",
    "\n",
    "import matplotlib.pyplot as plt\n",
    "import requests\n",
    "import torch\n",
    "import torch.nn.functional as F\n",
    "from PIL import Image\n",
    "from matplotlib_inline.backend_inline import set_matplotlib_formats\n",
    "from torch import nn, Tensor\n",
    "from torch.optim import RMSprop\n",
    "from torch.utils.data import DataLoader\n",
    "from torchsummary import summary\n",
    "from torchvision.datasets import MNIST\n",
    "from torchvision.transforms import ToTensor\n",
    "from torchvision.utils import make_grid\n",
    "\n",
    "set_matplotlib_formats('png', 'pdf')"
   ]
  },
  {
   "cell_type": "markdown",
   "id": "71b2adb7",
   "metadata": {
    "pycharm": {
     "name": "#%% md\n"
    }
   },
   "source": [
    "## Exercise 1\n",
    "In this exercise, we will learn how to build CNNs in PyTorch to classify images.\n",
    "\n",
    "CNNs are a special type of neural network inspired by the structure of the visual\n",
    "cortex in animals. They can be applied to a wide range of tasks such as image recognition,\n",
    "time-series analysis, sentence classification, etc. Two key features that differentiate\n",
    "CNNs from fully connected nets are:\n",
    "\n",
    " 1. Local connections: Each neuron in a convolutional layer is only connected to a\n",
    "subset of the neurons in the previous layer.\n",
    " 2. Shared weights: Each convolutional layer consists of multiple filters and each\n",
    "filter consists of multiple neurons. All the neurons in a given filter share the same\n",
    "weights but each of these neurons is connected to a different subset of the neurons in\n",
    "the previous layer.\n",
    "\n",
    "CNNs consistently outperform all other models in machine vision tasks such as image\n",
    "recognition, object detection, etc.\n",
    "\n",
    "### Classifying hand-written digits\n",
    "We will be working with is the MNIST dataset (included in `torchvision`).\n",
    "It consists of 28x28 pixels, grayscale images of hand-written digits and their\n",
    "associated labels (0 to 9). The training set contains 60,000 images and the test set\n",
    "contains 10,000.\n",
    "\n",
    "The `torchvision` implementation of MNIST directly gives us a `Dataset` that we can\n",
    "use for the `Dataloader`. However, in its plain form the dataset will return a PIL image\n",
    "in which the elements take values between 0 and 255.\n",
    "It is standard practice to scale the inputs so that the elements take values\n",
    "between 0 and 1. This typically helps the network train better and we need a tensor\n",
    "anyway.\n",
    "This can be quickly done by specifying the `transform` argument with the `ToTensor`\n",
    "transformation, which will convert the PIL images on the fly.\n",
    "There are a lot of transformations available and they are arbitrarily composable to any\n",
    "complexity. This is usually done in the context of data augmentation. You can check some\n",
    "other transforms [here](https://pytorch.org/vision/stable/transforms.html)."
   ]
  },
  {
   "cell_type": "code",
   "execution_count": 2,
   "id": "86b7a726",
   "metadata": {
    "execution": {
     "iopub.execute_input": "2022-11-17T08:08:06.477952Z",
     "iopub.status.busy": "2022-11-17T08:08:06.477750Z",
     "iopub.status.idle": "2022-11-17T08:08:09.727539Z",
     "shell.execute_reply": "2022-11-17T08:08:09.727062Z"
    },
    "pycharm": {
     "name": "#%%\n"
    }
   },
   "outputs": [
    {
     "name": "stdout",
     "output_type": "stream",
     "text": [
      "Downloading http://yann.lecun.com/exdb/mnist/train-images-idx3-ubyte.gz\n",
      "Downloading http://yann.lecun.com/exdb/mnist/train-images-idx3-ubyte.gz to .data/MNIST/raw/train-images-idx3-ubyte.gz\n"
     ]
    },
    {
     "data": {
      "application/vnd.jupyter.widget-view+json": {
       "model_id": "76bac8dae2d044d4a5ad59a1e4f7b734",
       "version_major": 2,
       "version_minor": 0
      },
      "text/plain": [
       "  0%|          | 0/9912422 [00:00<?, ?it/s]"
      ]
     },
     "metadata": {},
     "output_type": "display_data"
    },
    {
     "name": "stdout",
     "output_type": "stream",
     "text": [
      "Extracting .data/MNIST/raw/train-images-idx3-ubyte.gz to .data/MNIST/raw\n",
      "\n",
      "Downloading http://yann.lecun.com/exdb/mnist/train-labels-idx1-ubyte.gz\n",
      "Downloading http://yann.lecun.com/exdb/mnist/train-labels-idx1-ubyte.gz to .data/MNIST/raw/train-labels-idx1-ubyte.gz\n"
     ]
    },
    {
     "data": {
      "application/vnd.jupyter.widget-view+json": {
       "model_id": "c115525bbfc14409badeaf1a74f4f3f9",
       "version_major": 2,
       "version_minor": 0
      },
      "text/plain": [
       "  0%|          | 0/28881 [00:00<?, ?it/s]"
      ]
     },
     "metadata": {},
     "output_type": "display_data"
    },
    {
     "name": "stdout",
     "output_type": "stream",
     "text": [
      "Extracting .data/MNIST/raw/train-labels-idx1-ubyte.gz to .data/MNIST/raw\n",
      "\n",
      "Downloading http://yann.lecun.com/exdb/mnist/t10k-images-idx3-ubyte.gz\n",
      "Downloading http://yann.lecun.com/exdb/mnist/t10k-images-idx3-ubyte.gz to .data/MNIST/raw/t10k-images-idx3-ubyte.gz\n"
     ]
    },
    {
     "data": {
      "application/vnd.jupyter.widget-view+json": {
       "model_id": "81cfb65b7e9f48ee9df015a5eadc4d71",
       "version_major": 2,
       "version_minor": 0
      },
      "text/plain": [
       "  0%|          | 0/1648877 [00:00<?, ?it/s]"
      ]
     },
     "metadata": {},
     "output_type": "display_data"
    },
    {
     "name": "stdout",
     "output_type": "stream",
     "text": [
      "Extracting .data/MNIST/raw/t10k-images-idx3-ubyte.gz to .data/MNIST/raw\n",
      "\n",
      "Downloading http://yann.lecun.com/exdb/mnist/t10k-labels-idx1-ubyte.gz\n",
      "Downloading http://yann.lecun.com/exdb/mnist/t10k-labels-idx1-ubyte.gz to .data/MNIST/raw/t10k-labels-idx1-ubyte.gz\n"
     ]
    },
    {
     "data": {
      "application/vnd.jupyter.widget-view+json": {
       "model_id": "a596fda8105245669a53233f62ae4a70",
       "version_major": 2,
       "version_minor": 0
      },
      "text/plain": [
       "  0%|          | 0/4542 [00:00<?, ?it/s]"
      ]
     },
     "metadata": {},
     "output_type": "display_data"
    },
    {
     "name": "stdout",
     "output_type": "stream",
     "text": [
      "Extracting .data/MNIST/raw/t10k-labels-idx1-ubyte.gz to .data/MNIST/raw\n",
      "\n"
     ]
    }
   ],
   "source": [
    "train_dataset = MNIST(root='.data', train=True, download=True, transform=ToTensor());\n",
    "test_dataset = MNIST(root='.data', train=False, download=True, transform=ToTensor());"
   ]
  },
  {
   "cell_type": "markdown",
   "id": "789d5fef",
   "metadata": {
    "pycharm": {
     "name": "#%% md\n"
    }
   },
   "source": [
    "Let's visualize a few images with the `make_grid` utility.\n",
    "We need to permute the dimensions as tensors are of shape `channel x height x width` but\n",
    "the matplotlib convention follows `height x width x channel`."
   ]
  },
  {
   "cell_type": "code",
   "execution_count": 3,
   "id": "bdd91451",
   "metadata": {
    "execution": {
     "iopub.execute_input": "2022-11-17T08:08:09.729821Z",
     "iopub.status.busy": "2022-11-17T08:08:09.729595Z",
     "iopub.status.idle": "2022-11-17T08:08:09.943433Z",
     "shell.execute_reply": "2022-11-17T08:08:09.942815Z"
    },
    "pycharm": {
     "name": "#%%\n"
    }
   },
   "outputs": [
    {
     "data": {
      "application/pdf": "[encoded data removed]",
      "image/png": "[encoded data removed]",
      "text/plain": [
       "<Figure size 640x480 with 1 Axes>"
      ]
     },
     "metadata": {},
     "output_type": "display_data"
    }
   ],
   "source": [
    "image_batch = torch.stack([train_dataset[i][0] for i in range(100)])\n",
    "image_grid = make_grid(image_batch, nrow=20)\n",
    "plt.imshow(image_grid.permute(1, 2, 0))\n",
    "plt.axis('off')\n",
    "plt.show()"
   ]
  },
  {
   "cell_type": "markdown",
   "id": "9bf8ba57",
   "metadata": {
    "pycharm": {
     "name": "#%% md\n"
    }
   },
   "source": [
    "### Build the network\n",
    "A CNN typically consists of a series of convolutional and pooling layers followed\n",
    "by a few fully-connected layers. The convolutional layers detect important\n",
    "visual patterns in the input, and the fully-connected layers then classify the input\n",
    "based on the activations in the final convolutional/pooling layer.\n",
    "Each convolutional layer consists of multiple filters. When the CNN is trained,\n",
    "each filter in a layer specializes in identifying patterns in the image that downstream\n",
    "layers can use.\n",
    "\n",
    "To create a convolutional layer in PyTorch, call the\n",
    "[`Conv2D`](https://pytorch.org/docs/stable/generated/torch.nn.Conv2d.html) module,\n",
    "and specify the the number of filters in the layer (`in_channels` and 'out_channels'\n",
    "parameter) and the size of the filters (`kernel_size` parameter).\n",
    "\n",
    "Pooling layers are used to downsample intermediate feature maps in the CNN.\n",
    "PyTorch has multiple options for pooling layers, but today we will only use\n",
    "[`MaxPool2D`](https://pytorch.org/docs/stable/nn.html#pooling-layers) which takes a\n",
    "`kernel_size` argument for the size of the pooling window."
   ]
  },
  {
   "cell_type": "code",
   "execution_count": 4,
   "id": "60c64483",
   "metadata": {
    "execution": {
     "iopub.execute_input": "2022-11-17T08:08:09.945970Z",
     "iopub.status.busy": "2022-11-17T08:08:09.945756Z",
     "iopub.status.idle": "2022-11-17T08:08:09.971826Z",
     "shell.execute_reply": "2022-11-17T08:08:09.971302Z"
    },
    "pycharm": {
     "name": "#%%\n"
    }
   },
   "outputs": [
    {
     "name": "stdout",
     "output_type": "stream",
     "text": [
      "\n"
     ]
    }
   ],
   "source": [
    "model = nn.Sequential(\n",
    "    nn.Conv2d(\n",
    "        in_channels=1,\n",
    "        out_channels=32,\n",
    "        kernel_size=(3, 3),\n",
    "    ),\n",
    "    nn.ReLU(),\n",
    "    nn.MaxPool2d(kernel_size=2),\n",
    "# TODO: Add following layers:\n",
    "# 1. Convolution with 64 filters, 3 x 3 size and ReLU activation\n",
    "# 2. Max pooling with window size of 2\n",
    "# 3. Convolution with 64 filters, 3 x 3 size and ReLU activation\n",
    "# 4. Flatten the data. Hint: Check nn.Flatten.\n",
    "# 5. Add a fully connected layer with 576 input and 64 output features and ReLu\n",
    "# 6. Add a fully connected output layer with 10 output features.\n",
    ")"
   ]
  },
  {
   "cell_type": "markdown",
   "id": "df4e303c",
   "metadata": {
    "pycharm": {
     "name": "#%% md\n"
    }
   },
   "source": [
    "Now, we define the device that we would like to use for handling tensors.\n",
    "Here, it will use the GPU for computation if it is available."
   ]
  },
  {
   "cell_type": "code",
   "execution_count": 5,
   "id": "3f6a23d8",
   "metadata": {
    "execution": {
     "iopub.execute_input": "2022-11-17T08:08:09.974403Z",
     "iopub.status.busy": "2022-11-17T08:08:09.974213Z",
     "iopub.status.idle": "2022-11-17T08:08:09.977333Z",
     "shell.execute_reply": "2022-11-17T08:08:09.976831Z"
    },
    "pycharm": {
     "name": "#%%\n"
    }
   },
   "outputs": [],
   "source": [
    "device = torch.device('cuda' if torch.cuda.is_available() else 'cpu')"
   ]
  },
  {
   "cell_type": "markdown",
   "id": "6c217ee5",
   "metadata": {
    "pycharm": {
     "name": "#%% md\n"
    }
   },
   "source": [
    "Don't forget to send the model to the correct device!"
   ]
  },
  {
   "cell_type": "code",
   "execution_count": 6,
   "id": "427e479a",
   "metadata": {
    "execution": {
     "iopub.execute_input": "2022-11-17T08:08:09.979647Z",
     "iopub.status.busy": "2022-11-17T08:08:09.979493Z",
     "iopub.status.idle": "2022-11-17T08:08:09.984296Z",
     "shell.execute_reply": "2022-11-17T08:08:09.983870Z"
    },
    "pycharm": {
     "name": "#%%\n"
    }
   },
   "outputs": [
    {
     "name": "stdout",
     "output_type": "stream",
     "text": [
      "\n"
     ]
    }
   ],
   "source": [
    "# Push the model to the device."
   ]
  },
  {
   "cell_type": "markdown",
   "id": "79f86175",
   "metadata": {
    "pycharm": {
     "name": "#%% md\n"
    }
   },
   "source": [
    "Let's take a look at what we've built so far. The `summary` function from `torchsummary`\n",
    "is able to visualize the created network a bit better.\n",
    "We can also inspect the number of parameters and the memory consumption of a forward &\n",
    "backward pass."
   ]
  },
  {
   "cell_type": "code",
   "execution_count": 7,
   "id": "3d5f0a78",
   "metadata": {
    "execution": {
     "iopub.execute_input": "2022-11-17T08:08:10.013263Z",
     "iopub.status.busy": "2022-11-17T08:08:10.013064Z",
     "iopub.status.idle": "2022-11-17T08:08:10.017640Z",
     "shell.execute_reply": "2022-11-17T08:08:10.017255Z"
    },
    "pycharm": {
     "name": "#%%\n"
    }
   },
   "outputs": [
    {
     "name": "stdout",
     "output_type": "stream",
     "text": [
      "\n"
     ]
    }
   ],
   "source": [
    "summary(model, input_size=(1, 28, 28), device=str(device))"
   ]
  },
  {
   "cell_type": "markdown",
   "id": "7c538f41",
   "metadata": {
    "pycharm": {
     "name": "#%% md\n"
    }
   },
   "source": [
    "You can see that the output of every `Conv2D` and `MaxPool2D` is a 3D tensor of shape\n",
    "`(channels, height, width)`. For example, the output of the first layer is a tensor\n",
    "of shape `(32, 26, 26)`. Note that the width and height dimensions shrink as you go\n",
    "deeper in the network. The number of channels is controlled by the `filters` parameter\n",
    "of the convolutional layers.\n",
    "\n",
    "In the model we specified a 576-dimensional fully connected kind of as a magic number,\n",
    "but now we can see why this is done.\n",
    "\n",
    "After the 3 convolutional layers, the output tensor has a size of $64 \\times 3 \\times 3$.\n",
    "As a linear layer only accepts a one dimensional input, we flatten the tensor and arrive\n",
    "at $64 \\cdot 3 \\cdot 3 = 576$\n",
    "\n",
    "### Train and evaluate the model\n",
    "\n",
    "Similar as in the exercise before, we will define our training loop.\n",
    "You may notice some differences:\n",
    "\n",
    "- The dataloader now has a `num_workers` argument. This specifies the number of parallel\n",
    "workers that will fetch data from the dataset. A typical heuristic is to set this parameter\n",
    "to the total number of your CPU cores. This can be a critical bottleneck, when a lot of\n",
    "stuff like augmentations is happening in the `__get_item__` method of your `Dataset`.\n",
    "In our case we only apply the `ToTensor` transformation, so the overhead should be pretty\n",
    "low.\n",
    "- Our dataset is currently on the CPU by default. Thus, we still need to push the\n",
    "`x` and `y` tensors from the dataloader to the correct device.\n",
    "- We don't have any softmax function in our workflow. That's right! The cross entropy\n",
    "loss of PyTorch works directly on the raw scores and so we can save unnecessary computations.\n",
    "The predicted labels of the model can be obtained by applying `argmax` to the `y_hat`\n",
    "tensor, which returns the index with the largest score."
   ]
  },
  {
   "cell_type": "code",
   "execution_count": 8,
   "id": "397bb1ee",
   "metadata": {
    "execution": {
     "iopub.execute_input": "2022-11-17T08:08:10.019511Z",
     "iopub.status.busy": "2022-11-17T08:08:10.019324Z",
     "iopub.status.idle": "2022-11-17T08:08:10.024459Z",
     "shell.execute_reply": "2022-11-17T08:08:10.023871Z"
    },
    "pycharm": {
     "name": "#%%\n"
    }
   },
   "outputs": [
    {
     "name": "stdout",
     "output_type": "stream",
     "text": [
      "\n"
     ]
    }
   ],
   "source": [
    "\n",
    "# Set some constants\n",
    "epochs = 5\n",
    "batch_size = 64\n",
    "num_workers = 4\n",
    "\n",
    "max_batches = ceil(len(train_dataset) / batch_size)\n",
    "\n",
    "loss = (\n",
    "# Define the crossentropy loss function.\n",
    ")\n",
    "\n",
    "optimizer = (\n",
    "# Define the RMSprop optimizer with the model parameters.\n",
    ")\n",
    "\n",
    "\n",
    "train_loader = DataLoader(\n",
    "    dataset=train_dataset,\n",
    "    batch_size=batch_size,\n",
    "    shuffle=True,\n",
    "    num_workers=4,\n",
    ")\n",
    "\n",
    "for ep in range(1, epochs + 1):\n",
    "\n",
    "    total_loss = 0\n",
    "    num_correct = 0\n",
    "\n",
    "    for batch_idx, (x, y) in enumerate(train_loader):\n",
    "\n",
    "        # Push tensors to device\n",
    "        x = x.to(device)\n",
    "        y = y.to(device)\n",
    "\n",
    "# TODO: Do a forward pass and compute the loss.\n",
    "# TODO: Add backpropagation of the loss and apply the gradients via the optimizer.\n",
    "\n",
    "        # Print progress every 10 batches\n",
    "        if batch_idx % 10 == 0:\n",
    "            print('BATCH:\\t({:5} / {:5})\\tLOSS:\\t{:.3f}'\n",
    "                  .format(batch_idx, max_batches, float(batch_loss) / batch_size), end='\\r')\n",
    "\n",
    "        total_loss += float(batch_loss)\n",
    "        num_correct += int(torch.sum(torch.argmax(y_hat, dim=1) == y))\n",
    "\n",
    "    print('EPOCH:\\t{:5}\\tLOSS:\\t{:.3f}\\tACCURACY:\\t{:.3f}'\n",
    "          .format(ep, total_loss / len(train_dataset), num_correct / len(train_dataset),\n",
    "                  end='\\r'))"
   ]
  },
  {
   "cell_type": "markdown",
   "id": "3356c5d7",
   "metadata": {
    "pycharm": {
     "name": "#%% md\n"
    }
   },
   "source": [
    "After we trained the model, we evaluate it on the test dataset."
   ]
  },
  {
   "cell_type": "code",
   "execution_count": 9,
   "id": "1d37e595",
   "metadata": {
    "execution": {
     "iopub.execute_input": "2022-11-17T08:08:10.026446Z",
     "iopub.status.busy": "2022-11-17T08:08:10.026290Z",
     "iopub.status.idle": "2022-11-17T08:08:10.031101Z",
     "shell.execute_reply": "2022-11-17T08:08:10.030715Z"
    },
    "pycharm": {
     "name": "#%%\n"
    }
   },
   "outputs": [
    {
     "name": "stdout",
     "output_type": "stream",
     "text": [
      "\n"
     ]
    }
   ],
   "source": [
    "\n",
    "# We can choose a much larger batch size,\n",
    "# as we don't need to compute any gradients and only do inference.\n",
    "test_loader = DataLoader(\n",
    "    dataset=train_dataset,\n",
    "    batch_size=1024,\n",
    "    num_workers=4,\n",
    ")\n",
    "\n",
    "total_loss = 0\n",
    "num_correct = 0\n",
    "\n",
    "for batch_idx, (x, y) in enumerate(train_loader):\n",
    "    # Push tensors to device\n",
    "    x = x.to(device)\n",
    "    y = y.to(device)\n",
    "\n",
    "    with torch.no_grad():\n",
    "# TODO: Do a forward pass and get the batch loss\n",
    "\n",
    "    total_loss += float(batch_loss)\n",
    "    num_correct += int(torch.sum(torch.argmax(y_hat, dim=1) == y))\n",
    "\n",
    "print('EVALUATION LOSS:\\t{:.3f}\\tEVALUATION: ACCURACY:\\t{:.3f}'\n",
    "          .format(total_loss / len(train_dataset), num_correct / len(train_dataset),\n",
    "                  end='\\r'))"
   ]
  },
  {
   "cell_type": "markdown",
   "id": "1a44a241",
   "metadata": {
    "pycharm": {
     "name": "#%% md\n"
    }
   },
   "source": [
    "The accuracy of our model on MNIST is quite good!\n",
    "\n",
    "## Exercise 2\n",
    "In this exercise we are going to implement convolution on images, without worrying\n",
    "about stride and padding, and test it with the Sobel filter. There are two Sobel filters:\n",
    "$G_x$ detects horizontal edges and $G_y$ detects vertical edges.\n",
    "\n",
    "\\begin{equation}\n",
    "G_x=\\begin{vmatrix}\n",
    "-1 & 0 & 1 \\\\\n",
    "-2 & 0 & 2 \\\\\n",
    "-1 & 0 & 1\n",
    "\\end{vmatrix}\n",
    "\\qquad\n",
    "G_y=\\begin{vmatrix}\n",
    "-1 & -2 & -1 \\\\\n",
    "0 & 0 & 0 \\\\\n",
    "1 & 2 & 1\n",
    "\\end{vmatrix}={G_x}^T\n",
    "\\end{equation}\n",
    "\n",
    "Can you explain why and how these filters work?\n",
    "\n",
    "In order to get the image $E$ with the edges, we convolve $G_x$ and $G_y$ with the input\n",
    " image $I$, to obtain the degree of horizontal and vertical \"borderness\" of each pixel.\n",
    " We then combine these values (separately for each pixel) with an L2 norm:\n",
    "\n",
    "\\begin{equation}\n",
    "E=\\sqrt{(G_x*I)^2+(G_y*I)^2}\n",
    "\\end{equation}"
   ]
  },
  {
   "cell_type": "markdown",
   "id": "4f518931",
   "metadata": {
    "pycharm": {
     "name": "#%% md\n"
    }
   },
   "source": [
    "Let's load an example image:"
   ]
  },
  {
   "cell_type": "code",
   "execution_count": 10,
   "id": "a2e7d5ff",
   "metadata": {
    "execution": {
     "iopub.execute_input": "2022-11-17T08:08:10.033018Z",
     "iopub.status.busy": "2022-11-17T08:08:10.032867Z",
     "iopub.status.idle": "2022-11-17T08:08:10.289563Z",
     "shell.execute_reply": "2022-11-17T08:08:10.287344Z"
    },
    "pycharm": {
     "name": "#%%\n"
    }
   },
   "outputs": [
    {
     "data": {
      "image/png": "[encoded data removed]",
      "text/plain": [
       "<PIL.JpegImagePlugin.JpegImageFile image mode=L size=230x286>"
      ]
     },
     "execution_count": 10,
     "metadata": {},
     "output_type": "execute_result"
    }
   ],
   "source": [
    "url = 'https://upload.wikimedia.org/wikipedia/en/8/86/Einstein_tongue.jpg'\n",
    "response = requests.get(url)\n",
    "img_raw = Image.open(BytesIO(response.content))\n",
    "\n",
    "img_raw"
   ]
  },
  {
   "cell_type": "markdown",
   "id": "a818b86d",
   "metadata": {
    "pycharm": {
     "name": "#%% md\n"
    }
   },
   "source": [
    "We will further use this image as a tensor and drop the channel dimension."
   ]
  },
  {
   "cell_type": "code",
   "execution_count": 11,
   "id": "874ffefe",
   "metadata": {
    "execution": {
     "iopub.execute_input": "2022-11-17T08:08:10.296496Z",
     "iopub.status.busy": "2022-11-17T08:08:10.295884Z",
     "iopub.status.idle": "2022-11-17T08:08:10.305117Z",
     "shell.execute_reply": "2022-11-17T08:08:10.303241Z"
    },
    "pycharm": {
     "name": "#%%\n"
    }
   },
   "outputs": [
    {
     "name": "stdout",
     "output_type": "stream",
     "text": [
      "torch.Size([286, 230])\n"
     ]
    }
   ],
   "source": [
    "img = ToTensor()(img_raw)[0]\n",
    "print(img.shape)"
   ]
  },
  {
   "cell_type": "markdown",
   "id": "55239e8a",
   "metadata": {
    "pycharm": {
     "name": "#%% md\n"
    }
   },
   "source": [
    "As a reference, this is the result we want to obtain:"
   ]
  },
  {
   "cell_type": "code",
   "execution_count": 12,
   "id": "7b90820d",
   "metadata": {
    "execution": {
     "iopub.execute_input": "2022-11-17T08:08:10.311600Z",
     "iopub.status.busy": "2022-11-17T08:08:10.310956Z",
     "iopub.status.idle": "2022-11-17T08:08:10.446145Z",
     "shell.execute_reply": "2022-11-17T08:08:10.445422Z"
    },
    "pycharm": {
     "name": "#%%\n"
    }
   },
   "outputs": [
    {
     "name": "stdout",
     "output_type": "stream",
     "text": [
      "torch.Size([284, 228])\n"
     ]
    },
    {
     "data": {
      "application/pdf": "[encoded data removed]",
      "image/png": "[encoded data removed]",
      "text/plain": [
       "<Figure size 640x480 with 1 Axes>"
      ]
     },
     "metadata": {},
     "output_type": "display_data"
    }
   ],
   "source": [
    "def apply_sobel(img: Tensor) -> Tensor:\n",
    "    # Define the two filters\n",
    "    sobel_x = torch.tensor([\n",
    "        [-1, 0, 1],\n",
    "        [-2, 0, 2],\n",
    "        [-1, 0, 1]],\n",
    "        dtype=torch.float)\n",
    "\n",
    "    sobel_y = torch.tensor([\n",
    "        [-1, -2, -1],\n",
    "        [0, 0, 0],\n",
    "        [1, 2, 1]],\n",
    "        dtype=torch.float)\n",
    "\n",
    "    # We can use the functional API of torch to perform convolution manually\n",
    "    conv_x = F.conv2d(img.unsqueeze(0).unsqueeze(0), sobel_x.view(1, 1, 3, 3))\n",
    "    conv_y = F.conv2d(img.unsqueeze(0).unsqueeze(0), sobel_y.view(1, 1, 3, 3))\n",
    "\n",
    "    # Combine the two convolutions\n",
    "    conv = torch.sqrt(conv_x**2 + conv_y**2)\n",
    "\n",
    "    # Normalize maximum value to 1\n",
    "    return (conv / torch.max(conv)).squeeze(0).squeeze(0)\n",
    "\n",
    "img_sobel = apply_sobel(img)\n",
    "print(img_sobel.shape)\n",
    "plt.imshow(img_sobel, cmap='gray')\n",
    "plt.axis('off')\n",
    "plt.show()"
   ]
  },
  {
   "cell_type": "markdown",
   "id": "366219f6",
   "metadata": {
    "pycharm": {
     "name": "#%% md\n"
    }
   },
   "source": [
    "We now implement our version of convolutions. For an input matrix $\\textbf{X}$ of size\n",
    "$r(\\textbf{X})\\times c(\\textbf{X})$ and a kernel $\\textbf{K}$ of size\n",
    "$r(\\textbf{K})\\times c(\\textbf{K})$, the result of the convolution is\n",
    "$\\textbf{Y}=\\textbf{K}*\\textbf{X}$ with $r(\\textbf{Y})=r(\\textbf{X})-r(\\textbf{K})+1$,\n",
    "$c(\\textbf{Y})=c(\\textbf{X})-c(\\textbf{K})+1$, and elements:\n",
    "\n",
    "\\begin{equation}\n",
    "y_{ij}=\\sum_{k=1}^{r(\\textbf{K})}\\sum_{l=1}^{c(\\textbf{K})}x_{i+k-1,j+l-1}\\cdot k_{kl}\n",
    "\\end{equation}\n",
    "\n",
    "for $1\\leq i \\leq r(\\textbf{Y})$ and $1\\leq j \\leq c(\\textbf{Y})$.\n",
    "\n",
    "You now have to implement a function that computes $y_{ij}$ given the image, the kernel, $i$ and $j$."
   ]
  },
  {
   "cell_type": "code",
   "execution_count": 13,
   "id": "fd282ce0",
   "metadata": {
    "execution": {
     "iopub.execute_input": "2022-11-17T08:08:10.449909Z",
     "iopub.status.busy": "2022-11-17T08:08:10.449675Z",
     "iopub.status.idle": "2022-11-17T08:08:10.455646Z",
     "shell.execute_reply": "2022-11-17T08:08:10.455181Z"
    },
    "pycharm": {
     "name": "#%%\n"
    }
   },
   "outputs": [
    {
     "name": "stdout",
     "output_type": "stream",
     "text": [
      "\n"
     ]
    }
   ],
   "source": [
    "\n",
    "def compute_convolution_at_position(i: int, j: int, img: Tensor, kernel: Tensor) -> Tensor:\n",
    "# TODO: Compute and return the convolution at `y_ij` with the formula above\n",
    "\n",
    "\n",
    "def apply_convolution(img: Tensor, kernel:Tensor) -> Tensor:\n",
    "    height, width = img.shape\n",
    "    img_out = torch.zeros(height - 2, width - 2)\n",
    "\n",
    "# TODO: Compute the convoluted value for every y_ij in the image.\n",
    "# Note: Watch the index bounds of the image!\n",
    "\n",
    "    return img_out\n",
    "\n",
    "def apply_custom_sobel(img: Tensor) -> Tensor:\n",
    "    # Define the two filters\n",
    "    sobel_x = torch.tensor([\n",
    "        [-1, 0, 1],\n",
    "        [-2, 0, 2],\n",
    "        [-1, 0, 1]],\n",
    "        dtype=torch.float)\n",
    "\n",
    "    sobel_y = torch.tensor([\n",
    "        [-1, -2, -1],\n",
    "        [0, 0, 0],\n",
    "        [1, 2, 1]],\n",
    "        dtype=torch.float)\n",
    "\n",
    "    # We apply our own convolution\n",
    "    conv_x = apply_convolution(img, sobel_x)\n",
    "    conv_y = apply_convolution(img, sobel_y)\n",
    "\n",
    "    # Combine the two convolutions\n",
    "    conv = torch.sqrt(conv_x**2 + conv_y**2)\n",
    "\n",
    "    # Normalize maximum value to 1\n",
    "    return (conv / torch.max(conv))\n",
    "\n",
    "img_sobel = apply_custom_sobel(img)\n",
    "print(img_sobel.shape)\n",
    "plt.imshow(img_sobel, cmap='gray')\n",
    "plt.axis('off')\n",
    "plt.show()"
   ]
  },
  {
   "cell_type": "markdown",
   "id": "90eda0df",
   "metadata": {
    "pycharm": {
     "name": "#%% md\n"
    }
   },
   "source": [
    "If you did everything correctly, this image should match the image above.\n",
    "\n",
    "## Exercise 3\n",
    "Recall that the convolution $\\textbf{Y}=\\textbf{K}*\\textbf{X}$ has elements\n",
    "\n",
    "\\begin{equation}\n",
    "y_{ij}=\\sum_{k=1}^{r(\\textbf{K})}\\sum_{l=1}^{c(\\textbf{K})}x_{i+k-1,j+l-1}\\cdot k_{kl}\n",
    "\\end{equation}\n",
    "\n",
    "Now consider $\\textbf{X}$ and $\\textbf{Y}$ to be the input and output of a convolutional\n",
    " layer with filter $\\textbf{K}$. For simplicity, we focus on a single channel;\n",
    " actual convolution layers in CNN perform this operation several times with different\n",
    " learnable filters.\n",
    "\n",
    "Imagine this convolution is a hidden layer of the neural network, with $\\textbf{X}$\n",
    "being the input from the previous layer, and $\\textbf{Y}$ the pre-activation output to\n",
    "the next layer. Then, we can define the loss function in terms of $\\textbf{Y}$, i.e.\n",
    "$\\mathcal{L}=f(\\textbf{Y})$, where $f$ includes the activation, all the following layers,\n",
    " and the classification/regression loss.\n",
    "\n",
    "Show that:\n",
    "\n",
    "\\begin{equation}\n",
    "\\frac{\\partial\\mathcal{L}}{\\partial k_{kl}}=\\sum_{i=1}^{r(\\textbf{Y})}\\sum_{j=1}^{c(\\textbf{Y})}\\frac{\\partial\\mathcal{L}}{\\partial y_{ij}}\\cdot x_{i+k-1,j+l-1}\n",
    "\\end{equation}\n",
    "\n",
    "Then show that\n",
    "\n",
    "\\begin{equation}\n",
    "\\frac{\\partial\\mathcal{L}}{\\partial x_{ij}}=\\sum_{k=L_k}^{U_k}\\sum_{l=L_l}^{U_l}\\frac{\\partial\\mathcal{L}}{\\partial y_{ab}}k_{kl}\n",
    "\\end{equation}\n",
    "\n",
    "With\n",
    "\n",
    "\\begin{align}\n",
    "a &= i-k+1 \\\\\n",
    "b &= j-l+1 \\\\\n",
    "L_k &= \\max(1, i - r(\\textbf{X}) + r(\\textbf{K})) \\\\\n",
    "L_l &= \\max(1, j - c(\\textbf{X}) + c(\\textbf{K})) \\\\\n",
    "U_k &= \\min(r(\\textbf{K}), i) \\\\\n",
    "U_l &= \\min(c(\\textbf{K}), j)\n",
    "\\end{align}\n",
    "\n",
    "As you can see, the gradient of the input is obtained by convolving the same filter with\n",
    " the gradient of the output, with some care at the borders.\n",
    "\n",
    "Hint: it is easier to analyze convolutions in one dimension with a small example,\n",
    "then generalize the result to two dimensions and arbitrary filter/image size.\n",
    "\n",
    "Now, write a function that computes $\\partial \\mathcal{L}/\\partial x_{ij}$, with\n",
    "$\\mathcal{L}=\\sum_{i,j}{y_{ij}}^2$ and $\\textbf{K}=G_x$.\n",
    "\n"
   ]
  },
  {
   "cell_type": "code",
   "execution_count": 14,
   "id": "b1f3921a",
   "metadata": {
    "execution": {
     "iopub.execute_input": "2022-11-17T08:08:10.458509Z",
     "iopub.status.busy": "2022-11-17T08:08:10.458262Z",
     "iopub.status.idle": "2022-11-17T08:08:10.463536Z",
     "shell.execute_reply": "2022-11-17T08:08:10.463083Z"
    },
    "pycharm": {
     "name": "#%%\n"
    }
   },
   "outputs": [
    {
     "name": "stdout",
     "output_type": "stream",
     "text": [
      "\n"
     ]
    }
   ],
   "source": [
    "def conv_gradient_wrt_input(dloss_dy : Tensor, kernel) -> Tensor:\n",
    "    num_rows_kernel, num_cols_kernel = kernel.shape\n",
    "    num_rows_img = (\n",
    "# TODO: Compute the number of rows of the original image\n",
    "    )\n",
    "\n",
    "    num_cols_img = (\n",
    "# TODO: Compute the number of cols of the original image\n",
    "    )\n",
    "\n",
    "    img_out = torch.zeros(num_rows_img, num_cols_img)\n",
    "    for i in range(num_rows_img):\n",
    "        for j in range(num_cols_img):\n",
    "            gradient_ij = 0.0\n",
    "\n",
    "# TODO: Compute the gradient at row i and column j\n",
    "\n",
    "    return img_out"
   ]
  },
  {
   "cell_type": "code",
   "execution_count": 15,
   "id": "ec327e87",
   "metadata": {
    "execution": {
     "iopub.execute_input": "2022-11-17T08:08:10.465973Z",
     "iopub.status.busy": "2022-11-17T08:08:10.465761Z",
     "iopub.status.idle": "2022-11-17T08:08:10.471266Z",
     "shell.execute_reply": "2022-11-17T08:08:10.470845Z"
    },
    "pycharm": {
     "name": "#%%\n"
    }
   },
   "outputs": [
    {
     "name": "stdout",
     "output_type": "stream",
     "text": [
      "\n"
     ]
    }
   ],
   "source": [
    "\n",
    "sobel_x = torch.tensor([\n",
    "        [-1, 0, 1],\n",
    "        [-2, 0, 2],\n",
    "        [-1, 0, 1]],\n",
    "    dtype=torch.float)\n",
    "\n",
    "def apply_conv2d(img: Tensor, kernel: Tensor) -> Tensor:\n",
    "    height, width = img.shape\n",
    "    img_out = F.conv2d(img.view(1, 1, height, width), kernel.view(1, 1, 3, 3))\n",
    "    return img_out.view(img_out.shape[-2], img_out.shape[-1])\n",
    "\n",
    "img_sobel_x = apply_conv2d(img, sobel_x)\n",
    "dloss_dy = 2 * img_sobel_x\n",
    "\n",
    "img_grad = conv_gradient_wrt_input(dloss_dy, sobel_x)\n",
    "print(img_grad.shape)\n",
    "\n",
    "img_grad_normalized = (img_grad - torch.min(img_grad))/(torch.max(img_grad) - torch.min(img_grad))\n",
    "plt.imshow(img_grad_normalized, cmap='gray')\n",
    "plt.axis('off')\n",
    "plt.show()"
   ]
  },
  {
   "cell_type": "markdown",
   "id": "4c1a551b",
   "metadata": {
    "pycharm": {
     "name": "#%% md\n"
    }
   },
   "source": [
    "We can verify this gradient is correct for a single pixel with finite differences:"
   ]
  },
  {
   "cell_type": "code",
   "execution_count": 16,
   "id": "89cfe423",
   "metadata": {
    "execution": {
     "iopub.execute_input": "2022-11-17T08:08:10.473863Z",
     "iopub.status.busy": "2022-11-17T08:08:10.473659Z",
     "iopub.status.idle": "2022-11-17T08:08:10.479071Z",
     "shell.execute_reply": "2022-11-17T08:08:10.478635Z"
    },
    "pycharm": {
     "name": "#%%\n"
    }
   },
   "outputs": [
    {
     "name": "stdout",
     "output_type": "stream",
     "text": [
      "\n"
     ]
    }
   ],
   "source": [
    "\n",
    "eps = 1e-6\n",
    "i = torch.randint(img.shape[0], (1,))\n",
    "j = torch.randint(img.shape[1], (1,))\n",
    "\n",
    "# Add epsilon to position i,j and convolve\n",
    "img[i, j] += eps\n",
    "conv_pos = apply_conv2d(img, sobel_x)\n",
    "\n",
    "# Remove epsilon to position i,j and convolve\n",
    "img[i, j] -= 2 * eps\n",
    "conv_neg = apply_conv2d(img, sobel_x)\n",
    "\n",
    "# Undo modification to the image\n",
    "img[i, j] += eps\n",
    "\n",
    "# Compute the difference of the losses\n",
    "# NB: We sum the differences to get a more accurate result\n",
    "empirical_gradient = torch.sum(conv_pos**2 - conv_neg**2) / (2 * eps)\n",
    "\n",
    "# Compare empirical and analytical gradients\n",
    "print('Empirical grad.: {:.5f}\\tAnalytical grad.: {:.5f}'\n",
    "      .format(float(empirical_gradient), float(img_grad[i, j])))"
   ]
  },
  {
   "cell_type": "markdown",
   "id": "cd862d9f",
   "metadata": {
    "pycharm": {
     "name": "#%% md\n"
    }
   },
   "source": [
    "If you did everything correctly, these two numbers should have minimal differences.\n",
    "\n",
    "Now, can you guess what image _maximizes_ the loss we just defined?\n",
    "We can find this through gradient _ascent_:"
   ]
  },
  {
   "cell_type": "code",
   "execution_count": 17,
   "id": "82a568bb",
   "metadata": {
    "execution": {
     "iopub.execute_input": "2022-11-17T08:08:10.481600Z",
     "iopub.status.busy": "2022-11-17T08:08:10.481387Z",
     "iopub.status.idle": "2022-11-17T08:08:10.486638Z",
     "shell.execute_reply": "2022-11-17T08:08:10.486158Z"
    },
    "pycharm": {
     "name": "#%%\n"
    }
   },
   "outputs": [
    {
     "name": "stdout",
     "output_type": "stream",
     "text": [
      "\n"
     ]
    }
   ],
   "source": [
    "\n",
    "img_maximize = torch.rand((9, 9))\n",
    "losses = []\n",
    "\n",
    "for _ in range(100):\n",
    "\n",
    "# TODO: Convolve `sobel_x` with `img_maximize` and compute the loss.\n",
    "\n",
    "# TODO: Compute the gradient of the loss, and modify `img_maximize` accordingly.\n",
    "\n",
    "    losses.append(float(loss))\n",
    "\n",
    "plt.plot(losses)\n",
    "plt.show()"
   ]
  },
  {
   "cell_type": "code",
   "execution_count": 18,
   "id": "6d8afb5a",
   "metadata": {
    "execution": {
     "iopub.execute_input": "2022-11-17T08:08:10.488840Z",
     "iopub.status.busy": "2022-11-17T08:08:10.488689Z",
     "iopub.status.idle": "2022-11-17T08:08:10.493557Z",
     "shell.execute_reply": "2022-11-17T08:08:10.493122Z"
    },
    "pycharm": {
     "name": "#%%\n"
    }
   },
   "outputs": [
    {
     "name": "stdout",
     "output_type": "stream",
     "text": [
      "\n"
     ]
    }
   ],
   "source": [
    "plt.imshow(img_maximize, cmap='gray')\n",
    "plt.axis('off')\n",
    "plt.show()"
   ]
  }
 ],
 "metadata": {
  "kernelspec": {
   "display_name": "Python 3 (ipykernel)",
   "language": "python",
   "name": "python3"
  },
  "language_info": {
   "codemirror_mode": {
    "name": "ipython",
    "version": 3
   },
   "file_extension": ".py",
   "mimetype": "text/x-python",
   "name": "python",
   "nbconvert_exporter": "python",
   "pygments_lexer": "ipython3",
   "version": "3.10.6"
  },
  "widgets": {
   "application/vnd.jupyter.widget-state+json": {
    "state": {
     "038159c01e404be1920d68f5ac5f229a": {
      "model_module": "@jupyter-widgets/controls",
      "model_module_version": "2.0.0",
      "model_name": "HTMLStyleModel",
      "state": {
       "_model_module": "@jupyter-widgets/controls",
       "_model_module_version": "2.0.0",
       "_model_name": "HTMLStyleModel",
       "_view_count": null,
       "_view_module": "@jupyter-widgets/base",
       "_view_module_version": "2.0.0",
       "_view_name": "StyleView",
       "background": null,
       "description_width": "",
       "font_size": null,
       "text_color": null
      }
     },
     "043aaa0e163d4b0abb7c95a4d3c7b349": {
      "model_module": "@jupyter-widgets/controls",
      "model_module_version": "2.0.0",
      "model_name": "HTMLStyleModel",
      "state": {
       "_model_module": "@jupyter-widgets/controls",
       "_model_module_version": "2.0.0",
       "_model_name": "HTMLStyleModel",
       "_view_count": null,
       "_view_module": "@jupyter-widgets/base",
       "_view_module_version": "2.0.0",
       "_view_name": "StyleView",
       "background": null,
       "description_width": "",
       "font_size": null,
       "text_color": null
      }
     },
     "070e51d3df064176807b169e947680c0": {
      "model_module": "@jupyter-widgets/controls",
      "model_module_version": "2.0.0",
      "model_name": "HTMLStyleModel",
      "state": {
       "_model_module": "@jupyter-widgets/controls",
       "_model_module_version": "2.0.0",
       "_model_name": "HTMLStyleModel",
       "_view_count": null,
       "_view_module": "@jupyter-widgets/base",
       "_view_module_version": "2.0.0",
       "_view_name": "StyleView",
       "background": null,
       "description_width": "",
       "font_size": null,
       "text_color": null
      }
     },
     "0c7e70658e464d42a5581d3fb2cc2fd6": {
      "model_module": "@jupyter-widgets/controls",
      "model_module_version": "2.0.0",
      "model_name": "HTMLStyleModel",
      "state": {
       "_model_module": "@jupyter-widgets/controls",
       "_model_module_version": "2.0.0",
       "_model_name": "HTMLStyleModel",
       "_view_count": null,
       "_view_module": "@jupyter-widgets/base",
       "_view_module_version": "2.0.0",
       "_view_name": "StyleView",
       "background": null,
       "description_width": "",
       "font_size": null,
       "text_color": null
      }
     },
     "120dd1124dbb44bc985d10ef358aa58b": {
      "model_module": "@jupyter-widgets/controls",
      "model_module_version": "2.0.0",
      "model_name": "HTMLModel",
      "state": {
       "_dom_classes": [],
       "_model_module": "@jupyter-widgets/controls",
       "_model_module_version": "2.0.0",
       "_model_name": "HTMLModel",
       "_view_count": null,
       "_view_module": "@jupyter-widgets/controls",
       "_view_module_version": "2.0.0",
       "_view_name": "HTMLView",
       "description": "",
       "description_allow_html": false,
       "layout": "IPY_MODEL_d7eaabdff2574b368987a67f8cbc0f33",
       "placeholder": "​",
       "style": "IPY_MODEL_070e51d3df064176807b169e947680c0",
       "tabbable": null,
       "tooltip": null,
       "value": " 28881/28881 [00:00&lt;00:00, 579164.33it/s]"
      }
     },
     "15312b76512841d4a9e89ea7a3d2dfef": {
      "model_module": "@jupyter-widgets/controls",
      "model_module_version": "2.0.0",
      "model_name": "FloatProgressModel",
      "state": {
       "_dom_classes": [],
       "_model_module": "@jupyter-widgets/controls",
       "_model_module_version": "2.0.0",
       "_model_name": "FloatProgressModel",
       "_view_count": null,
       "_view_module": "@jupyter-widgets/controls",
       "_view_module_version": "2.0.0",
       "_view_name": "ProgressView",
       "bar_style": "success",
       "description": "",
       "description_allow_html": false,
       "layout": "IPY_MODEL_5f296681103a405ea2fadb251eb6d4fb",
       "max": 28881,
       "min": 0,
       "orientation": "horizontal",
       "style": "IPY_MODEL_7c7e03b37715453caf06040b1f38086d",
       "tabbable": null,
       "tooltip": null,
       "value": 28881
      }
     },
     "1af28fbb144c4098bc72701ad287190e": {
      "model_module": "@jupyter-widgets/controls",
      "model_module_version": "2.0.0",
      "model_name": "FloatProgressModel",
      "state": {
       "_dom_classes": [],
       "_model_module": "@jupyter-widgets/controls",
       "_model_module_version": "2.0.0",
       "_model_name": "FloatProgressModel",
       "_view_count": null,
       "_view_module": "@jupyter-widgets/controls",
       "_view_module_version": "2.0.0",
       "_view_name": "ProgressView",
       "bar_style": "success",
       "description": "",
       "description_allow_html": false,
       "layout": "IPY_MODEL_e8c163b043584f22a5abd5ae60b3062d",
       "max": 9912422,
       "min": 0,
       "orientation": "horizontal",
       "style": "IPY_MODEL_62607a35d2aa4ecba9f3ff0941dc03de",
       "tabbable": null,
       "tooltip": null,
       "value": 9912422
      }
     },
     "1b016df3ae9a4e52863d0cb0fcabc684": {
      "model_module": "@jupyter-widgets/controls",
      "model_module_version": "2.0.0",
      "model_name": "HTMLModel",
      "state": {
       "_dom_classes": [],
       "_model_module": "@jupyter-widgets/controls",
       "_model_module_version": "2.0.0",
       "_model_name": "HTMLModel",
       "_view_count": null,
       "_view_module": "@jupyter-widgets/controls",
       "_view_module_version": "2.0.0",
       "_view_name": "HTMLView",
       "description": "",
       "description_allow_html": false,
       "layout": "IPY_MODEL_9afdd930b79e4fd593b7cffc216f2a6c",
       "placeholder": "​",
       "style": "IPY_MODEL_b5f07337a5094b12b41676c64c71cafd",
       "tabbable": null,
       "tooltip": null,
       "value": "100%"
      }
     },
     "2a5ef8400a724f74966e5d32d3394820": {
      "model_module": "@jupyter-widgets/controls",
      "model_module_version": "2.0.0",
      "model_name": "HTMLModel",
      "state": {
       "_dom_classes": [],
       "_model_module": "@jupyter-widgets/controls",
       "_model_module_version": "2.0.0",
       "_model_name": "HTMLModel",
       "_view_count": null,
       "_view_module": "@jupyter-widgets/controls",
       "_view_module_version": "2.0.0",
       "_view_name": "HTMLView",
       "description": "",
       "description_allow_html": false,
       "layout": "IPY_MODEL_d495812a76ed44e28ac0008c156d0d82",
       "placeholder": "​",
       "style": "IPY_MODEL_8567f75858414b8fa2d704e0758b5c34",
       "tabbable": null,
       "tooltip": null,
       "value": " 1648877/1648877 [00:00&lt;00:00, 3732678.04it/s]"
      }
     },
     "2d58a9d4443344bb93d2e744ff6f1bed": {
      "model_module": "@jupyter-widgets/base",
      "model_module_version": "2.0.0",
      "model_name": "LayoutModel",
      "state": {
       "_model_module": "@jupyter-widgets/base",
       "_model_module_version": "2.0.0",
       "_model_name": "LayoutModel",
       "_view_count": null,
       "_view_module": "@jupyter-widgets/base",
       "_view_module_version": "2.0.0",
       "_view_name": "LayoutView",
       "align_content": null,
       "align_items": null,
       "align_self": null,
       "border_bottom": null,
       "border_left": null,
       "border_right": null,
       "border_top": null,
       "bottom": null,
       "display": null,
       "flex": null,
       "flex_flow": null,
       "grid_area": null,
       "grid_auto_columns": null,
       "grid_auto_flow": null,
       "grid_auto_rows": null,
       "grid_column": null,
       "grid_gap": null,
       "grid_row": null,
       "grid_template_areas": null,
       "grid_template_columns": null,
       "grid_template_rows": null,
       "height": null,
       "justify_content": null,
       "justify_items": null,
       "left": null,
       "margin": null,
       "max_height": null,
       "max_width": null,
       "min_height": null,
       "min_width": null,
       "object_fit": null,
       "object_position": null,
       "order": null,
       "overflow": null,
       "padding": null,
       "right": null,
       "top": null,
       "visibility": null,
       "width": null
      }
     },
     "3248506b1c6746e3b23255eb0e481c3c": {
      "model_module": "@jupyter-widgets/controls",
      "model_module_version": "2.0.0",
      "model_name": "FloatProgressModel",
      "state": {
       "_dom_classes": [],
       "_model_module": "@jupyter-widgets/controls",
       "_model_module_version": "2.0.0",
       "_model_name": "FloatProgressModel",
       "_view_count": null,
       "_view_module": "@jupyter-widgets/controls",
       "_view_module_version": "2.0.0",
       "_view_name": "ProgressView",
       "bar_style": "success",
       "description": "",
       "description_allow_html": false,
       "layout": "IPY_MODEL_859819a27f544aafa79aed5bcabe5df3",
       "max": 1648877,
       "min": 0,
       "orientation": "horizontal",
       "style": "IPY_MODEL_d5756e1306a144308db6c76110b31a77",
       "tabbable": null,
       "tooltip": null,
       "value": 1648877
      }
     },
     "4283b4b7f3844b82a70990a9c1d3d605": {
      "model_module": "@jupyter-widgets/base",
      "model_module_version": "2.0.0",
      "model_name": "LayoutModel",
      "state": {
       "_model_module": "@jupyter-widgets/base",
       "_model_module_version": "2.0.0",
       "_model_name": "LayoutModel",
       "_view_count": null,
       "_view_module": "@jupyter-widgets/base",
       "_view_module_version": "2.0.0",
       "_view_name": "LayoutView",
       "align_content": null,
       "align_items": null,
       "align_self": null,
       "border_bottom": null,
       "border_left": null,
       "border_right": null,
       "border_top": null,
       "bottom": null,
       "display": null,
       "flex": null,
       "flex_flow": null,
       "grid_area": null,
       "grid_auto_columns": null,
       "grid_auto_flow": null,
       "grid_auto_rows": null,
       "grid_column": null,
       "grid_gap": null,
       "grid_row": null,
       "grid_template_areas": null,
       "grid_template_columns": null,
       "grid_template_rows": null,
       "height": null,
       "justify_content": null,
       "justify_items": null,
       "left": null,
       "margin": null,
       "max_height": null,
       "max_width": null,
       "min_height": null,
       "min_width": null,
       "object_fit": null,
       "object_position": null,
       "order": null,
       "overflow": null,
       "padding": null,
       "right": null,
       "top": null,
       "visibility": null,
       "width": null
      }
     },
     "483a6194c8a645a687250316d488f169": {
      "model_module": "@jupyter-widgets/controls",
      "model_module_version": "2.0.0",
      "model_name": "HTMLStyleModel",
      "state": {
       "_model_module": "@jupyter-widgets/controls",
       "_model_module_version": "2.0.0",
       "_model_name": "HTMLStyleModel",
       "_view_count": null,
       "_view_module": "@jupyter-widgets/base",
       "_view_module_version": "2.0.0",
       "_view_name": "StyleView",
       "background": null,
       "description_width": "",
       "font_size": null,
       "text_color": null
      }
     },
     "4bc73189d2e5437a896a4165e11d5aa7": {
      "model_module": "@jupyter-widgets/base",
      "model_module_version": "2.0.0",
      "model_name": "LayoutModel",
      "state": {
       "_model_module": "@jupyter-widgets/base",
       "_model_module_version": "2.0.0",
       "_model_name": "LayoutModel",
       "_view_count": null,
       "_view_module": "@jupyter-widgets/base",
       "_view_module_version": "2.0.0",
       "_view_name": "LayoutView",
       "align_content": null,
       "align_items": null,
       "align_self": null,
       "border_bottom": null,
       "border_left": null,
       "border_right": null,
       "border_top": null,
       "bottom": null,
       "display": null,
       "flex": null,
       "flex_flow": null,
       "grid_area": null,
       "grid_auto_columns": null,
       "grid_auto_flow": null,
       "grid_auto_rows": null,
       "grid_column": null,
       "grid_gap": null,
       "grid_row": null,
       "grid_template_areas": null,
       "grid_template_columns": null,
       "grid_template_rows": null,
       "height": null,
       "justify_content": null,
       "justify_items": null,
       "left": null,
       "margin": null,
       "max_height": null,
       "max_width": null,
       "min_height": null,
       "min_width": null,
       "object_fit": null,
       "object_position": null,
       "order": null,
       "overflow": null,
       "padding": null,
       "right": null,
       "top": null,
       "visibility": null,
       "width": null
      }
     },
     "529d8f3cc7b2420db211524de6c6f6dd": {
      "model_module": "@jupyter-widgets/base",
      "model_module_version": "2.0.0",
      "model_name": "LayoutModel",
      "state": {
       "_model_module": "@jupyter-widgets/base",
       "_model_module_version": "2.0.0",
       "_model_name": "LayoutModel",
       "_view_count": null,
       "_view_module": "@jupyter-widgets/base",
       "_view_module_version": "2.0.0",
       "_view_name": "LayoutView",
       "align_content": null,
       "align_items": null,
       "align_self": null,
       "border_bottom": null,
       "border_left": null,
       "border_right": null,
       "border_top": null,
       "bottom": null,
       "display": null,
       "flex": null,
       "flex_flow": null,
       "grid_area": null,
       "grid_auto_columns": null,
       "grid_auto_flow": null,
       "grid_auto_rows": null,
       "grid_column": null,
       "grid_gap": null,
       "grid_row": null,
       "grid_template_areas": null,
       "grid_template_columns": null,
       "grid_template_rows": null,
       "height": null,
       "justify_content": null,
       "justify_items": null,
       "left": null,
       "margin": null,
       "max_height": null,
       "max_width": null,
       "min_height": null,
       "min_width": null,
       "object_fit": null,
       "object_position": null,
       "order": null,
       "overflow": null,
       "padding": null,
       "right": null,
       "top": null,
       "visibility": null,
       "width": null
      }
     },
     "5f296681103a405ea2fadb251eb6d4fb": {
      "model_module": "@jupyter-widgets/base",
      "model_module_version": "2.0.0",
      "model_name": "LayoutModel",
      "state": {
       "_model_module": "@jupyter-widgets/base",
       "_model_module_version": "2.0.0",
       "_model_name": "LayoutModel",
       "_view_count": null,
       "_view_module": "@jupyter-widgets/base",
       "_view_module_version": "2.0.0",
       "_view_name": "LayoutView",
       "align_content": null,
       "align_items": null,
       "align_self": null,
       "border_bottom": null,
       "border_left": null,
       "border_right": null,
       "border_top": null,
       "bottom": null,
       "display": null,
       "flex": null,
       "flex_flow": null,
       "grid_area": null,
       "grid_auto_columns": null,
       "grid_auto_flow": null,
       "grid_auto_rows": null,
       "grid_column": null,
       "grid_gap": null,
       "grid_row": null,
       "grid_template_areas": null,
       "grid_template_columns": null,
       "grid_template_rows": null,
       "height": null,
       "justify_content": null,
       "justify_items": null,
       "left": null,
       "margin": null,
       "max_height": null,
       "max_width": null,
       "min_height": null,
       "min_width": null,
       "object_fit": null,
       "object_position": null,
       "order": null,
       "overflow": null,
       "padding": null,
       "right": null,
       "top": null,
       "visibility": null,
       "width": null
      }
     },
     "62607a35d2aa4ecba9f3ff0941dc03de": {
      "model_module": "@jupyter-widgets/controls",
      "model_module_version": "2.0.0",
      "model_name": "ProgressStyleModel",
      "state": {
       "_model_module": "@jupyter-widgets/controls",
       "_model_module_version": "2.0.0",
       "_model_name": "ProgressStyleModel",
       "_view_count": null,
       "_view_module": "@jupyter-widgets/base",
       "_view_module_version": "2.0.0",
       "_view_name": "StyleView",
       "bar_color": null,
       "description_width": ""
      }
     },
     "6eb51a8ff334454c9179083a38c7d246": {
      "model_module": "@jupyter-widgets/controls",
      "model_module_version": "2.0.0",
      "model_name": "FloatProgressModel",
      "state": {
       "_dom_classes": [],
       "_model_module": "@jupyter-widgets/controls",
       "_model_module_version": "2.0.0",
       "_model_name": "FloatProgressModel",
       "_view_count": null,
       "_view_module": "@jupyter-widgets/controls",
       "_view_module_version": "2.0.0",
       "_view_name": "ProgressView",
       "bar_style": "success",
       "description": "",
       "description_allow_html": false,
       "layout": "IPY_MODEL_8c196a3bf0a841a28415fca05baa8e0a",
       "max": 4542,
       "min": 0,
       "orientation": "horizontal",
       "style": "IPY_MODEL_f932cd2008a9423190d36593de41db1a",
       "tabbable": null,
       "tooltip": null,
       "value": 4542
      }
     },
     "6fc47787fb454329b525b3930f082b2d": {
      "model_module": "@jupyter-widgets/controls",
      "model_module_version": "2.0.0",
      "model_name": "HTMLModel",
      "state": {
       "_dom_classes": [],
       "_model_module": "@jupyter-widgets/controls",
       "_model_module_version": "2.0.0",
       "_model_name": "HTMLModel",
       "_view_count": null,
       "_view_module": "@jupyter-widgets/controls",
       "_view_module_version": "2.0.0",
       "_view_name": "HTMLView",
       "description": "",
       "description_allow_html": false,
       "layout": "IPY_MODEL_529d8f3cc7b2420db211524de6c6f6dd",
       "placeholder": "​",
       "style": "IPY_MODEL_0c7e70658e464d42a5581d3fb2cc2fd6",
       "tabbable": null,
       "tooltip": null,
       "value": "100%"
      }
     },
     "76bac8dae2d044d4a5ad59a1e4f7b734": {
      "model_module": "@jupyter-widgets/controls",
      "model_module_version": "2.0.0",
      "model_name": "HBoxModel",
      "state": {
       "_dom_classes": [],
       "_model_module": "@jupyter-widgets/controls",
       "_model_module_version": "2.0.0",
       "_model_name": "HBoxModel",
       "_view_count": null,
       "_view_module": "@jupyter-widgets/controls",
       "_view_module_version": "2.0.0",
       "_view_name": "HBoxView",
       "box_style": "",
       "children": [
        "IPY_MODEL_1b016df3ae9a4e52863d0cb0fcabc684",
        "IPY_MODEL_1af28fbb144c4098bc72701ad287190e",
        "IPY_MODEL_82a8575995cf48a79dcf2de802257a3d"
       ],
       "layout": "IPY_MODEL_4283b4b7f3844b82a70990a9c1d3d605",
       "tabbable": null,
       "tooltip": null
      }
     },
     "7c7e03b37715453caf06040b1f38086d": {
      "model_module": "@jupyter-widgets/controls",
      "model_module_version": "2.0.0",
      "model_name": "ProgressStyleModel",
      "state": {
       "_model_module": "@jupyter-widgets/controls",
       "_model_module_version": "2.0.0",
       "_model_name": "ProgressStyleModel",
       "_view_count": null,
       "_view_module": "@jupyter-widgets/base",
       "_view_module_version": "2.0.0",
       "_view_name": "StyleView",
       "bar_color": null,
       "description_width": ""
      }
     },
     "81cfb65b7e9f48ee9df015a5eadc4d71": {
      "model_module": "@jupyter-widgets/controls",
      "model_module_version": "2.0.0",
      "model_name": "HBoxModel",
      "state": {
       "_dom_classes": [],
       "_model_module": "@jupyter-widgets/controls",
       "_model_module_version": "2.0.0",
       "_model_name": "HBoxModel",
       "_view_count": null,
       "_view_module": "@jupyter-widgets/controls",
       "_view_module_version": "2.0.0",
       "_view_name": "HBoxView",
       "box_style": "",
       "children": [
        "IPY_MODEL_e439c1a5d6af4dd1b645d9f3e3f0dfa6",
        "IPY_MODEL_3248506b1c6746e3b23255eb0e481c3c",
        "IPY_MODEL_2a5ef8400a724f74966e5d32d3394820"
       ],
       "layout": "IPY_MODEL_9e59bed558994f518bec98ce0346d289",
       "tabbable": null,
       "tooltip": null
      }
     },
     "82a8575995cf48a79dcf2de802257a3d": {
      "model_module": "@jupyter-widgets/controls",
      "model_module_version": "2.0.0",
      "model_name": "HTMLModel",
      "state": {
       "_dom_classes": [],
       "_model_module": "@jupyter-widgets/controls",
       "_model_module_version": "2.0.0",
       "_model_name": "HTMLModel",
       "_view_count": null,
       "_view_module": "@jupyter-widgets/controls",
       "_view_module_version": "2.0.0",
       "_view_name": "HTMLView",
       "description": "",
       "description_allow_html": false,
       "layout": "IPY_MODEL_a8965e5c54af43a0b2a19253527e7c36",
       "placeholder": "​",
       "style": "IPY_MODEL_483a6194c8a645a687250316d488f169",
       "tabbable": null,
       "tooltip": null,
       "value": " 9912422/9912422 [00:01&lt;00:00, 7393719.20it/s]"
      }
     },
     "8567f75858414b8fa2d704e0758b5c34": {
      "model_module": "@jupyter-widgets/controls",
      "model_module_version": "2.0.0",
      "model_name": "HTMLStyleModel",
      "state": {
       "_model_module": "@jupyter-widgets/controls",
       "_model_module_version": "2.0.0",
       "_model_name": "HTMLStyleModel",
       "_view_count": null,
       "_view_module": "@jupyter-widgets/base",
       "_view_module_version": "2.0.0",
       "_view_name": "StyleView",
       "background": null,
       "description_width": "",
       "font_size": null,
       "text_color": null
      }
     },
     "859819a27f544aafa79aed5bcabe5df3": {
      "model_module": "@jupyter-widgets/base",
      "model_module_version": "2.0.0",
      "model_name": "LayoutModel",
      "state": {
       "_model_module": "@jupyter-widgets/base",
       "_model_module_version": "2.0.0",
       "_model_name": "LayoutModel",
       "_view_count": null,
       "_view_module": "@jupyter-widgets/base",
       "_view_module_version": "2.0.0",
       "_view_name": "LayoutView",
       "align_content": null,
       "align_items": null,
       "align_self": null,
       "border_bottom": null,
       "border_left": null,
       "border_right": null,
       "border_top": null,
       "bottom": null,
       "display": null,
       "flex": null,
       "flex_flow": null,
       "grid_area": null,
       "grid_auto_columns": null,
       "grid_auto_flow": null,
       "grid_auto_rows": null,
       "grid_column": null,
       "grid_gap": null,
       "grid_row": null,
       "grid_template_areas": null,
       "grid_template_columns": null,
       "grid_template_rows": null,
       "height": null,
       "justify_content": null,
       "justify_items": null,
       "left": null,
       "margin": null,
       "max_height": null,
       "max_width": null,
       "min_height": null,
       "min_width": null,
       "object_fit": null,
       "object_position": null,
       "order": null,
       "overflow": null,
       "padding": null,
       "right": null,
       "top": null,
       "visibility": null,
       "width": null
      }
     },
     "8c196a3bf0a841a28415fca05baa8e0a": {
      "model_module": "@jupyter-widgets/base",
      "model_module_version": "2.0.0",
      "model_name": "LayoutModel",
      "state": {
       "_model_module": "@jupyter-widgets/base",
       "_model_module_version": "2.0.0",
       "_model_name": "LayoutModel",
       "_view_count": null,
       "_view_module": "@jupyter-widgets/base",
       "_view_module_version": "2.0.0",
       "_view_name": "LayoutView",
       "align_content": null,
       "align_items": null,
       "align_self": null,
       "border_bottom": null,
       "border_left": null,
       "border_right": null,
       "border_top": null,
       "bottom": null,
       "display": null,
       "flex": null,
       "flex_flow": null,
       "grid_area": null,
       "grid_auto_columns": null,
       "grid_auto_flow": null,
       "grid_auto_rows": null,
       "grid_column": null,
       "grid_gap": null,
       "grid_row": null,
       "grid_template_areas": null,
       "grid_template_columns": null,
       "grid_template_rows": null,
       "height": null,
       "justify_content": null,
       "justify_items": null,
       "left": null,
       "margin": null,
       "max_height": null,
       "max_width": null,
       "min_height": null,
       "min_width": null,
       "object_fit": null,
       "object_position": null,
       "order": null,
       "overflow": null,
       "padding": null,
       "right": null,
       "top": null,
       "visibility": null,
       "width": null
      }
     },
     "9afdd930b79e4fd593b7cffc216f2a6c": {
      "model_module": "@jupyter-widgets/base",
      "model_module_version": "2.0.0",
      "model_name": "LayoutModel",
      "state": {
       "_model_module": "@jupyter-widgets/base",
       "_model_module_version": "2.0.0",
       "_model_name": "LayoutModel",
       "_view_count": null,
       "_view_module": "@jupyter-widgets/base",
       "_view_module_version": "2.0.0",
       "_view_name": "LayoutView",
       "align_content": null,
       "align_items": null,
       "align_self": null,
       "border_bottom": null,
       "border_left": null,
       "border_right": null,
       "border_top": null,
       "bottom": null,
       "display": null,
       "flex": null,
       "flex_flow": null,
       "grid_area": null,
       "grid_auto_columns": null,
       "grid_auto_flow": null,
       "grid_auto_rows": null,
       "grid_column": null,
       "grid_gap": null,
       "grid_row": null,
       "grid_template_areas": null,
       "grid_template_columns": null,
       "grid_template_rows": null,
       "height": null,
       "justify_content": null,
       "justify_items": null,
       "left": null,
       "margin": null,
       "max_height": null,
       "max_width": null,
       "min_height": null,
       "min_width": null,
       "object_fit": null,
       "object_position": null,
       "order": null,
       "overflow": null,
       "padding": null,
       "right": null,
       "top": null,
       "visibility": null,
       "width": null
      }
     },
     "9e59bed558994f518bec98ce0346d289": {
      "model_module": "@jupyter-widgets/base",
      "model_module_version": "2.0.0",
      "model_name": "LayoutModel",
      "state": {
       "_model_module": "@jupyter-widgets/base",
       "_model_module_version": "2.0.0",
       "_model_name": "LayoutModel",
       "_view_count": null,
       "_view_module": "@jupyter-widgets/base",
       "_view_module_version": "2.0.0",
       "_view_name": "LayoutView",
       "align_content": null,
       "align_items": null,
       "align_self": null,
       "border_bottom": null,
       "border_left": null,
       "border_right": null,
       "border_top": null,
       "bottom": null,
       "display": null,
       "flex": null,
       "flex_flow": null,
       "grid_area": null,
       "grid_auto_columns": null,
       "grid_auto_flow": null,
       "grid_auto_rows": null,
       "grid_column": null,
       "grid_gap": null,
       "grid_row": null,
       "grid_template_areas": null,
       "grid_template_columns": null,
       "grid_template_rows": null,
       "height": null,
       "justify_content": null,
       "justify_items": null,
       "left": null,
       "margin": null,
       "max_height": null,
       "max_width": null,
       "min_height": null,
       "min_width": null,
       "object_fit": null,
       "object_position": null,
       "order": null,
       "overflow": null,
       "padding": null,
       "right": null,
       "top": null,
       "visibility": null,
       "width": null
      }
     },
     "a30d2e686b3d4282b14704ea178e89f2": {
      "model_module": "@jupyter-widgets/base",
      "model_module_version": "2.0.0",
      "model_name": "LayoutModel",
      "state": {
       "_model_module": "@jupyter-widgets/base",
       "_model_module_version": "2.0.0",
       "_model_name": "LayoutModel",
       "_view_count": null,
       "_view_module": "@jupyter-widgets/base",
       "_view_module_version": "2.0.0",
       "_view_name": "LayoutView",
       "align_content": null,
       "align_items": null,
       "align_self": null,
       "border_bottom": null,
       "border_left": null,
       "border_right": null,
       "border_top": null,
       "bottom": null,
       "display": null,
       "flex": null,
       "flex_flow": null,
       "grid_area": null,
       "grid_auto_columns": null,
       "grid_auto_flow": null,
       "grid_auto_rows": null,
       "grid_column": null,
       "grid_gap": null,
       "grid_row": null,
       "grid_template_areas": null,
       "grid_template_columns": null,
       "grid_template_rows": null,
       "height": null,
       "justify_content": null,
       "justify_items": null,
       "left": null,
       "margin": null,
       "max_height": null,
       "max_width": null,
       "min_height": null,
       "min_width": null,
       "object_fit": null,
       "object_position": null,
       "order": null,
       "overflow": null,
       "padding": null,
       "right": null,
       "top": null,
       "visibility": null,
       "width": null
      }
     },
     "a596fda8105245669a53233f62ae4a70": {
      "model_module": "@jupyter-widgets/controls",
      "model_module_version": "2.0.0",
      "model_name": "HBoxModel",
      "state": {
       "_dom_classes": [],
       "_model_module": "@jupyter-widgets/controls",
       "_model_module_version": "2.0.0",
       "_model_name": "HBoxModel",
       "_view_count": null,
       "_view_module": "@jupyter-widgets/controls",
       "_view_module_version": "2.0.0",
       "_view_name": "HBoxView",
       "box_style": "",
       "children": [
        "IPY_MODEL_6fc47787fb454329b525b3930f082b2d",
        "IPY_MODEL_6eb51a8ff334454c9179083a38c7d246",
        "IPY_MODEL_fc457bd38e614e6a8c5bc140555b3e1e"
       ],
       "layout": "IPY_MODEL_2d58a9d4443344bb93d2e744ff6f1bed",
       "tabbable": null,
       "tooltip": null
      }
     },
     "a8965e5c54af43a0b2a19253527e7c36": {
      "model_module": "@jupyter-widgets/base",
      "model_module_version": "2.0.0",
      "model_name": "LayoutModel",
      "state": {
       "_model_module": "@jupyter-widgets/base",
       "_model_module_version": "2.0.0",
       "_model_name": "LayoutModel",
       "_view_count": null,
       "_view_module": "@jupyter-widgets/base",
       "_view_module_version": "2.0.0",
       "_view_name": "LayoutView",
       "align_content": null,
       "align_items": null,
       "align_self": null,
       "border_bottom": null,
       "border_left": null,
       "border_right": null,
       "border_top": null,
       "bottom": null,
       "display": null,
       "flex": null,
       "flex_flow": null,
       "grid_area": null,
       "grid_auto_columns": null,
       "grid_auto_flow": null,
       "grid_auto_rows": null,
       "grid_column": null,
       "grid_gap": null,
       "grid_row": null,
       "grid_template_areas": null,
       "grid_template_columns": null,
       "grid_template_rows": null,
       "height": null,
       "justify_content": null,
       "justify_items": null,
       "left": null,
       "margin": null,
       "max_height": null,
       "max_width": null,
       "min_height": null,
       "min_width": null,
       "object_fit": null,
       "object_position": null,
       "order": null,
       "overflow": null,
       "padding": null,
       "right": null,
       "top": null,
       "visibility": null,
       "width": null
      }
     },
     "ac1ec49ed29848089fbe22f1e7569d46": {
      "model_module": "@jupyter-widgets/base",
      "model_module_version": "2.0.0",
      "model_name": "LayoutModel",
      "state": {
       "_model_module": "@jupyter-widgets/base",
       "_model_module_version": "2.0.0",
       "_model_name": "LayoutModel",
       "_view_count": null,
       "_view_module": "@jupyter-widgets/base",
       "_view_module_version": "2.0.0",
       "_view_name": "LayoutView",
       "align_content": null,
       "align_items": null,
       "align_self": null,
       "border_bottom": null,
       "border_left": null,
       "border_right": null,
       "border_top": null,
       "bottom": null,
       "display": null,
       "flex": null,
       "flex_flow": null,
       "grid_area": null,
       "grid_auto_columns": null,
       "grid_auto_flow": null,
       "grid_auto_rows": null,
       "grid_column": null,
       "grid_gap": null,
       "grid_row": null,
       "grid_template_areas": null,
       "grid_template_columns": null,
       "grid_template_rows": null,
       "height": null,
       "justify_content": null,
       "justify_items": null,
       "left": null,
       "margin": null,
       "max_height": null,
       "max_width": null,
       "min_height": null,
       "min_width": null,
       "object_fit": null,
       "object_position": null,
       "order": null,
       "overflow": null,
       "padding": null,
       "right": null,
       "top": null,
       "visibility": null,
       "width": null
      }
     },
     "b5f07337a5094b12b41676c64c71cafd": {
      "model_module": "@jupyter-widgets/controls",
      "model_module_version": "2.0.0",
      "model_name": "HTMLStyleModel",
      "state": {
       "_model_module": "@jupyter-widgets/controls",
       "_model_module_version": "2.0.0",
       "_model_name": "HTMLStyleModel",
       "_view_count": null,
       "_view_module": "@jupyter-widgets/base",
       "_view_module_version": "2.0.0",
       "_view_name": "StyleView",
       "background": null,
       "description_width": "",
       "font_size": null,
       "text_color": null
      }
     },
     "b7b668f9b355493c9321e55d2a632075": {
      "model_module": "@jupyter-widgets/controls",
      "model_module_version": "2.0.0",
      "model_name": "HTMLModel",
      "state": {
       "_dom_classes": [],
       "_model_module": "@jupyter-widgets/controls",
       "_model_module_version": "2.0.0",
       "_model_name": "HTMLModel",
       "_view_count": null,
       "_view_module": "@jupyter-widgets/controls",
       "_view_module_version": "2.0.0",
       "_view_name": "HTMLView",
       "description": "",
       "description_allow_html": false,
       "layout": "IPY_MODEL_b80ba0940a364415bb2021531aa34579",
       "placeholder": "​",
       "style": "IPY_MODEL_ba544e4e3a80469db2e48cda3b679f70",
       "tabbable": null,
       "tooltip": null,
       "value": "100%"
      }
     },
     "b80ba0940a364415bb2021531aa34579": {
      "model_module": "@jupyter-widgets/base",
      "model_module_version": "2.0.0",
      "model_name": "LayoutModel",
      "state": {
       "_model_module": "@jupyter-widgets/base",
       "_model_module_version": "2.0.0",
       "_model_name": "LayoutModel",
       "_view_count": null,
       "_view_module": "@jupyter-widgets/base",
       "_view_module_version": "2.0.0",
       "_view_name": "LayoutView",
       "align_content": null,
       "align_items": null,
       "align_self": null,
       "border_bottom": null,
       "border_left": null,
       "border_right": null,
       "border_top": null,
       "bottom": null,
       "display": null,
       "flex": null,
       "flex_flow": null,
       "grid_area": null,
       "grid_auto_columns": null,
       "grid_auto_flow": null,
       "grid_auto_rows": null,
       "grid_column": null,
       "grid_gap": null,
       "grid_row": null,
       "grid_template_areas": null,
       "grid_template_columns": null,
       "grid_template_rows": null,
       "height": null,
       "justify_content": null,
       "justify_items": null,
       "left": null,
       "margin": null,
       "max_height": null,
       "max_width": null,
       "min_height": null,
       "min_width": null,
       "object_fit": null,
       "object_position": null,
       "order": null,
       "overflow": null,
       "padding": null,
       "right": null,
       "top": null,
       "visibility": null,
       "width": null
      }
     },
     "ba544e4e3a80469db2e48cda3b679f70": {
      "model_module": "@jupyter-widgets/controls",
      "model_module_version": "2.0.0",
      "model_name": "HTMLStyleModel",
      "state": {
       "_model_module": "@jupyter-widgets/controls",
       "_model_module_version": "2.0.0",
       "_model_name": "HTMLStyleModel",
       "_view_count": null,
       "_view_module": "@jupyter-widgets/base",
       "_view_module_version": "2.0.0",
       "_view_name": "StyleView",
       "background": null,
       "description_width": "",
       "font_size": null,
       "text_color": null
      }
     },
     "c115525bbfc14409badeaf1a74f4f3f9": {
      "model_module": "@jupyter-widgets/controls",
      "model_module_version": "2.0.0",
      "model_name": "HBoxModel",
      "state": {
       "_dom_classes": [],
       "_model_module": "@jupyter-widgets/controls",
       "_model_module_version": "2.0.0",
       "_model_name": "HBoxModel",
       "_view_count": null,
       "_view_module": "@jupyter-widgets/controls",
       "_view_module_version": "2.0.0",
       "_view_name": "HBoxView",
       "box_style": "",
       "children": [
        "IPY_MODEL_b7b668f9b355493c9321e55d2a632075",
        "IPY_MODEL_15312b76512841d4a9e89ea7a3d2dfef",
        "IPY_MODEL_120dd1124dbb44bc985d10ef358aa58b"
       ],
       "layout": "IPY_MODEL_4bc73189d2e5437a896a4165e11d5aa7",
       "tabbable": null,
       "tooltip": null
      }
     },
     "d495812a76ed44e28ac0008c156d0d82": {
      "model_module": "@jupyter-widgets/base",
      "model_module_version": "2.0.0",
      "model_name": "LayoutModel",
      "state": {
       "_model_module": "@jupyter-widgets/base",
       "_model_module_version": "2.0.0",
       "_model_name": "LayoutModel",
       "_view_count": null,
       "_view_module": "@jupyter-widgets/base",
       "_view_module_version": "2.0.0",
       "_view_name": "LayoutView",
       "align_content": null,
       "align_items": null,
       "align_self": null,
       "border_bottom": null,
       "border_left": null,
       "border_right": null,
       "border_top": null,
       "bottom": null,
       "display": null,
       "flex": null,
       "flex_flow": null,
       "grid_area": null,
       "grid_auto_columns": null,
       "grid_auto_flow": null,
       "grid_auto_rows": null,
       "grid_column": null,
       "grid_gap": null,
       "grid_row": null,
       "grid_template_areas": null,
       "grid_template_columns": null,
       "grid_template_rows": null,
       "height": null,
       "justify_content": null,
       "justify_items": null,
       "left": null,
       "margin": null,
       "max_height": null,
       "max_width": null,
       "min_height": null,
       "min_width": null,
       "object_fit": null,
       "object_position": null,
       "order": null,
       "overflow": null,
       "padding": null,
       "right": null,
       "top": null,
       "visibility": null,
       "width": null
      }
     },
     "d5756e1306a144308db6c76110b31a77": {
      "model_module": "@jupyter-widgets/controls",
      "model_module_version": "2.0.0",
      "model_name": "ProgressStyleModel",
      "state": {
       "_model_module": "@jupyter-widgets/controls",
       "_model_module_version": "2.0.0",
       "_model_name": "ProgressStyleModel",
       "_view_count": null,
       "_view_module": "@jupyter-widgets/base",
       "_view_module_version": "2.0.0",
       "_view_name": "StyleView",
       "bar_color": null,
       "description_width": ""
      }
     },
     "d7eaabdff2574b368987a67f8cbc0f33": {
      "model_module": "@jupyter-widgets/base",
      "model_module_version": "2.0.0",
      "model_name": "LayoutModel",
      "state": {
       "_model_module": "@jupyter-widgets/base",
       "_model_module_version": "2.0.0",
       "_model_name": "LayoutModel",
       "_view_count": null,
       "_view_module": "@jupyter-widgets/base",
       "_view_module_version": "2.0.0",
       "_view_name": "LayoutView",
       "align_content": null,
       "align_items": null,
       "align_self": null,
       "border_bottom": null,
       "border_left": null,
       "border_right": null,
       "border_top": null,
       "bottom": null,
       "display": null,
       "flex": null,
       "flex_flow": null,
       "grid_area": null,
       "grid_auto_columns": null,
       "grid_auto_flow": null,
       "grid_auto_rows": null,
       "grid_column": null,
       "grid_gap": null,
       "grid_row": null,
       "grid_template_areas": null,
       "grid_template_columns": null,
       "grid_template_rows": null,
       "height": null,
       "justify_content": null,
       "justify_items": null,
       "left": null,
       "margin": null,
       "max_height": null,
       "max_width": null,
       "min_height": null,
       "min_width": null,
       "object_fit": null,
       "object_position": null,
       "order": null,
       "overflow": null,
       "padding": null,
       "right": null,
       "top": null,
       "visibility": null,
       "width": null
      }
     },
     "e439c1a5d6af4dd1b645d9f3e3f0dfa6": {
      "model_module": "@jupyter-widgets/controls",
      "model_module_version": "2.0.0",
      "model_name": "HTMLModel",
      "state": {
       "_dom_classes": [],
       "_model_module": "@jupyter-widgets/controls",
       "_model_module_version": "2.0.0",
       "_model_name": "HTMLModel",
       "_view_count": null,
       "_view_module": "@jupyter-widgets/controls",
       "_view_module_version": "2.0.0",
       "_view_name": "HTMLView",
       "description": "",
       "description_allow_html": false,
       "layout": "IPY_MODEL_a30d2e686b3d4282b14704ea178e89f2",
       "placeholder": "​",
       "style": "IPY_MODEL_038159c01e404be1920d68f5ac5f229a",
       "tabbable": null,
       "tooltip": null,
       "value": "100%"
      }
     },
     "e8c163b043584f22a5abd5ae60b3062d": {
      "model_module": "@jupyter-widgets/base",
      "model_module_version": "2.0.0",
      "model_name": "LayoutModel",
      "state": {
       "_model_module": "@jupyter-widgets/base",
       "_model_module_version": "2.0.0",
       "_model_name": "LayoutModel",
       "_view_count": null,
       "_view_module": "@jupyter-widgets/base",
       "_view_module_version": "2.0.0",
       "_view_name": "LayoutView",
       "align_content": null,
       "align_items": null,
       "align_self": null,
       "border_bottom": null,
       "border_left": null,
       "border_right": null,
       "border_top": null,
       "bottom": null,
       "display": null,
       "flex": null,
       "flex_flow": null,
       "grid_area": null,
       "grid_auto_columns": null,
       "grid_auto_flow": null,
       "grid_auto_rows": null,
       "grid_column": null,
       "grid_gap": null,
       "grid_row": null,
       "grid_template_areas": null,
       "grid_template_columns": null,
       "grid_template_rows": null,
       "height": null,
       "justify_content": null,
       "justify_items": null,
       "left": null,
       "margin": null,
       "max_height": null,
       "max_width": null,
       "min_height": null,
       "min_width": null,
       "object_fit": null,
       "object_position": null,
       "order": null,
       "overflow": null,
       "padding": null,
       "right": null,
       "top": null,
       "visibility": null,
       "width": null
      }
     },
     "f932cd2008a9423190d36593de41db1a": {
      "model_module": "@jupyter-widgets/controls",
      "model_module_version": "2.0.0",
      "model_name": "ProgressStyleModel",
      "state": {
       "_model_module": "@jupyter-widgets/controls",
       "_model_module_version": "2.0.0",
       "_model_name": "ProgressStyleModel",
       "_view_count": null,
       "_view_module": "@jupyter-widgets/base",
       "_view_module_version": "2.0.0",
       "_view_name": "StyleView",
       "bar_color": null,
       "description_width": ""
      }
     },
     "fc457bd38e614e6a8c5bc140555b3e1e": {
      "model_module": "@jupyter-widgets/controls",
      "model_module_version": "2.0.0",
      "model_name": "HTMLModel",
      "state": {
       "_dom_classes": [],
       "_model_module": "@jupyter-widgets/controls",
       "_model_module_version": "2.0.0",
       "_model_name": "HTMLModel",
       "_view_count": null,
       "_view_module": "@jupyter-widgets/controls",
       "_view_module_version": "2.0.0",
       "_view_name": "HTMLView",
       "description": "",
       "description_allow_html": false,
       "layout": "IPY_MODEL_ac1ec49ed29848089fbe22f1e7569d46",
       "placeholder": "​",
       "style": "IPY_MODEL_043aaa0e163d4b0abb7c95a4d3c7b349",
       "tabbable": null,
       "tooltip": null,
       "value": " 4542/4542 [00:00&lt;00:00, 90326.68it/s]"
      }
     }
    },
    "version_major": 2,
    "version_minor": 0
   }
  }
 },
 "nbformat": 4,
 "nbformat_minor": 5
}
