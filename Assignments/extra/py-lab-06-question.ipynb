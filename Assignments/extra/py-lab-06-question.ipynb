{
 "cells": [
  {
   "cell_type": "markdown",
   "id": "f0460661",
   "metadata": {
    "pycharm": {
     "name": "#%% md\n"
    }
   },
   "source": [
    "# Deep Learning -- Lab Session 5\n",
    "\n",
    "Welcome to the fifth lab.\n",
    "\n",
    "In this lab, we will finally use PyTorch as a deep learning framework.\n",
    "We will see what are the signs of overfitting, and how to avoid it using regularization.\n",
    "Then, we will analyze convergence of gradient descent on quadratic\n",
    "surfaces, and apply the intuition we gain on a practical example,\n",
    "comparing gradient descent with and without momentum.\n",
    "\n",
    "## Imports"
   ]
  },
  {
   "cell_type": "code",
   "execution_count": 1,
   "id": "9baa1da6",
   "metadata": {
    "execution": {
     "iopub.execute_input": "2022-11-10T11:39:00.513996Z",
     "iopub.status.busy": "2022-11-10T11:39:00.512720Z",
     "iopub.status.idle": "2022-11-10T11:39:01.977900Z",
     "shell.execute_reply": "2022-11-10T11:39:01.977360Z"
    },
    "pycharm": {
     "name": "#%%\n"
    }
   },
   "outputs": [],
   "source": [
    "from collections import Counter\n",
    "from operator import itemgetter\n",
    "import random\n",
    "import string\n",
    "from typing import Union, List, Tuple, Dict\n",
    "\n",
    "import torch\n",
    "from torch import nn, Tensor\n",
    "from torch.optim import RMSprop, Adam\n",
    "from torch.utils.data import DataLoader, Dataset\n",
    "from torchtext.datasets import IMDB\n",
    "import matplotlib.pyplot as plt\n",
    "from matplotlib_inline.backend_inline import set_matplotlib_formats\n",
    "\n",
    "set_matplotlib_formats('png', 'pdf')"
   ]
  },
  {
   "cell_type": "markdown",
   "id": "e165513b",
   "metadata": {
    "pycharm": {
     "name": "#%% md\n"
    }
   },
   "source": [
    "## Exercise 1\n",
    "\n",
    "In this exercise, we will learn the basic usage of PyTorch,\n",
    "a popular deep learning library.\n",
    "We already utilized PyTorch in the exercises before but only to construct matrices and\n",
    "perform operations on them.\n",
    "\n",
    "The networks that we will use are small enough that they can run on your personal\n",
    "computer, but, if you need a GPU, you can try Jupyter on Google Colab\n",
    "(click [here](https://colab.research.google.com/notebooks/intro.ipynb)).\n",
    "At the beginning of your session, get a GPU by clicking on \"Runtime\", then \"Change runtime type\",\n",
    "then choose \"GPU\" as hardware accelerator.\n",
    "\n",
    "### Loading and preparing the dataset\n",
    "\n",
    "The dataset that we will be working with is the IMDB dataset,\n",
    "which is included in PyTorch (or more precisely in `torchtext`).\n",
    "It contains 50,000 reviews that are highly polarized,\n",
    "that is, they are unambiguously either 'positive' or 'negative'.\n",
    "When the data is loaded, the training and test sets will contain 25,000 reviews each.\n",
    "In both sets, half of the reviews are positive and half are negative."
   ]
  },
  {
   "cell_type": "code",
   "execution_count": 2,
   "id": "056d8135",
   "metadata": {
    "execution": {
     "iopub.execute_input": "2022-11-10T11:39:01.980059Z",
     "iopub.status.busy": "2022-11-10T11:39:01.979861Z",
     "iopub.status.idle": "2022-11-10T11:39:01.985663Z",
     "shell.execute_reply": "2022-11-10T11:39:01.985166Z"
    },
    "pycharm": {
     "name": "#%%\n"
    }
   },
   "outputs": [],
   "source": [
    "train_iterator, test_iterator = IMDB();"
   ]
  },
  {
   "cell_type": "markdown",
   "id": "e529bdcb",
   "metadata": {
    "pycharm": {
     "name": "#%% md\n"
    }
   },
   "source": [
    "The `IMDB` object returns two iterators, which allows to iterate over the data.\n",
    "However, for us it is more convenient to just have everything directly, so we load\n",
    "the whole dataset into a list."
   ]
  },
  {
   "cell_type": "code",
   "execution_count": 3,
   "id": "e0366233",
   "metadata": {
    "execution": {
     "iopub.execute_input": "2022-11-10T11:39:01.987586Z",
     "iopub.status.busy": "2022-11-10T11:39:01.987437Z",
     "iopub.status.idle": "2022-11-10T11:39:02.856849Z",
     "shell.execute_reply": "2022-11-10T11:39:02.856309Z"
    },
    "pycharm": {
     "name": "#%%\n"
    }
   },
   "outputs": [],
   "source": [
    "train_x: List = []\n",
    "train_y: List = []\n",
    "test_x: List = []\n",
    "test_y: List = []\n",
    "\n",
    "for label, line in train_iterator:\n",
    "    train_x.append(line)\n",
    "    train_y.append(label)\n",
    "\n",
    "for label, line in test_iterator:\n",
    "    test_x.append(line)\n",
    "    test_y.append(label)"
   ]
  },
  {
   "cell_type": "markdown",
   "id": "3042f2b3",
   "metadata": {
    "pycharm": {
     "name": "#%% md\n"
    }
   },
   "source": [
    "Let's check a random review!"
   ]
  },
  {
   "cell_type": "code",
   "execution_count": 4,
   "id": "a9f87799",
   "metadata": {
    "execution": {
     "iopub.execute_input": "2022-11-10T11:39:02.858766Z",
     "iopub.status.busy": "2022-11-10T11:39:02.858613Z",
     "iopub.status.idle": "2022-11-10T11:39:02.861412Z",
     "shell.execute_reply": "2022-11-10T11:39:02.861042Z"
    },
    "pycharm": {
     "name": "#%%\n"
    }
   },
   "outputs": [
    {
     "name": "stdout",
     "output_type": "stream",
     "text": [
      "After some internet surfing, I found the \"Homefront\" series on DVD at ioffer.com. Before anyone gets excited, the DVD set I received was burned by an amateur from home video tapes recorded off of their TV 15 years ago. The resolution and quality are poor. The images look like you would expect old re-recorded video to look. Although the commercials were edited out, the ending credits of each episode still have voice-over announcements for the segway into the ABC news program \"Nightline\", complete with the top news headlines from the early 1990's. Even with the poor image quality, the shows were watch-able and the sound quality was fine.<br /><br />To this show's credit, the casting was nearly perfect. Everyone was believable and really looked the part. Their acting was also above average. The role of Jeff Metcalf is played particularly well by Kyle Chandler (most recently seen in the 2005 remake of King Kong). The period costumes were very authentic as were the sets, especially the 1940s kitchens with vintage appliances and décor. The direction was also creative and different for a TV show at that time. For example, conversations between characters were sometimes inter-cut with conversations about the same subject between other characters in different scenes. The dialog of the different conversations was kept fluid despite cutting back and fourth between the different characters and locations. That takes good direction and editing and they made it work in this case.<br /><br />As I started watching this series again I suddenly remembered why I lost interest in it 15 years ago. Despite all the ingredients for a fine show, the plots and story lines are disappointing and confusing right from the start. For one thing, the name of the show itself is totally misleading. When WWII ended in 1945, there was no more fighting so obviously there was no longer a \"homefront\" either. Curiously, the first episode of the show \"Homefront\" begins in 1945 after the war had ended. That's like shooting the first episode of \"Gilligan's Island\" showing the castaways being rescued. The whole premise of the show's namesake is completely lost. I still held on to hope with the possibility of the rest of the series being a flashback but no, the entire show takes place from 1946 through 1948. Additionally, this series fails miserably in any attempt to accurately portray any historical events of the late 1940's. By the third episode, it becomes obvious that this series was nothing more than a thinly veiled vehicle for an ultra left-wing political agenda. The show is set in River Run Ohio, near Toledo. However, the show's ongoing racism theme makes it look more like Jackson Mississippi than Ohio. Part of the ensemble cast are Dick Williams, Hattie Winston and Sterling Macer Jr. who portray the Davis family. Much of the series shows the Davis family being discriminated against by the evil \"whites\" to the point of being ridiculous and totally absurd if not laughable. The racism card has been played and over played by Hollywood now for over 40 years. We get it. We're also tired of having our noses rubbed in it on a daily basis. The subject of racism is also unpopular with viewers and it is the kiss of death for any show, as it was for \"Homefront\". The acting talents of Williams, Winston and Macer were wasted in their roles as the stereotypical \"frightened / angry black family\". The wildly exaggerated racism in this series makes it look like everyone in Ohio was a KKK member or something. The racism issue could have been addressed in this show in a single episode with a simple punch in the nose or fist-fight in which a bigot gets a well deserved thrashing, and leave it at that. Devoting a major portion of the series to the racism thing gets really old really quick and its just plain stupid.<br /><br />In yet another ridiculous plot line, the big boss of a local factory (Ken Jenkins) is portrayed as an Ebenezer Scrooge like character who is against pensions and raises and is unconcerned about acid dripping on his employees. The workers revolt and take over the factory in a blatant pro-communist propaganda message to the viewer.<br /><br />Personally, I think this series had great potential. The writers could have easily placed the timeline in 1941  1945 as the title suggests and shown the hardships of food and gas rationing and working 14 hour days at war factories. Of course the loss of brothers, sons and husbands fighting overseas would have also added drama. The situation was also perfect for writing in special guest stars as military or USO personnel passing through their town during training or en-route to Europe or the Pacific. The possibilities for good story lines and plots are endless. But no, the writers of Homefront (David Assael and James Grissom) completely ignored any relevant or interesting plots. Instead, they totally missed the point and strayed into a bizarre and irrelevant obsession with racism and left-wing politics. It would be unfair to the actors to condemn the entire series but the plots and situations in which they were placed are total garbage.\n"
     ]
    }
   ],
   "source": [
    "print(train_x[random.randint(0, len(train_x) - 1)])"
   ]
  },
  {
   "cell_type": "markdown",
   "id": "32dfe9e7",
   "metadata": {
    "pycharm": {
     "name": "#%% md\n"
    }
   },
   "source": [
    "This looks nice but this is not a good representation for neural network training.\n",
    "Thus, we apply some preprocessing in the next steps:\n",
    "\n",
    "1. Tokenization.\n",
    "2. Count-vectorization.\n",
    "3. Convert to \"bag of words\" vectors.\n",
    "4. Convert string labels to binary.\n",
    "5. Create a PyTorch dataset.\n",
    "\n",
    "We start with removing punctuation and isolating single words. This is a very basic\n",
    "approach for tokenization."
   ]
  },
  {
   "cell_type": "code",
   "execution_count": 5,
   "id": "d6ee6d3a",
   "metadata": {
    "execution": {
     "iopub.execute_input": "2022-11-10T11:39:02.863617Z",
     "iopub.status.busy": "2022-11-10T11:39:02.863473Z",
     "iopub.status.idle": "2022-11-10T11:39:04.643823Z",
     "shell.execute_reply": "2022-11-10T11:39:04.643331Z"
    },
    "pycharm": {
     "name": "#%%\n"
    }
   },
   "outputs": [
    {
     "name": "stdout",
     "output_type": "stream",
     "text": [
      "['Zentropa', 'has', 'much', 'in', 'common', 'with', 'The', 'Third', 'Man', 'another', 'noirlike', 'film', 'set', 'among', 'the', 'rubble', 'of', 'postwar', 'Europe', 'Like', 'TTM', 'there', 'is', 'much', 'inventive', 'camera', 'work', 'There', 'is', 'an', 'innocent', 'American', 'who', 'gets', 'emotionally', 'involved', 'with', 'a', 'woman', 'he', 'doesnt', 'really', 'understand', 'and', 'whose', 'naivety', 'is', 'all', 'the', 'more', 'striking', 'in', 'contrast', 'with', 'the', 'nativesbr', 'br', 'But', 'Id', 'have', 'to', 'say', 'that', 'The', 'Third', 'Man', 'has', 'a', 'more', 'wellcrafted', 'storyline', 'Zentropa', 'is', 'a', 'bit', 'disjointed', 'in', 'this', 'respect', 'Perhaps', 'this', 'is', 'intentional', 'it', 'is', 'presented', 'as', 'a', 'dreamnightmare', 'and', 'making', 'it', 'too', 'coherent', 'would', 'spoil', 'the', 'effect', 'br', 'br', 'This', 'movie', 'is', 'unrelentingly', 'grimnoir', 'in', 'more', 'than', 'one', 'sense', 'one', 'never', 'sees', 'the', 'sun', 'shine', 'Grim', 'but', 'intriguing', 'and', 'frightening']\n"
     ]
    }
   ],
   "source": [
    "def tokenize(data_list: List[str]) -> List[List[str]]:\n",
    "    \"\"\"\n",
    "    Tokenize a list of strings.\n",
    "\n",
    "    :param data_list: A list of strings.\n",
    "    :return: A list where each entry is a list including the tokenized elements.\n",
    "    \"\"\"\n",
    "    token_list: List[List[str]] = []\n",
    "    for data_string in data_list:\n",
    "        # Remove punctuation.\n",
    "        data_string = data_string.translate(str.maketrans('', '', string.punctuation))\n",
    "        # Split by space.\n",
    "        token_list.append(data_string.split())\n",
    "    return token_list\n",
    "\n",
    "train_x = tokenize(train_x)\n",
    "test_x = tokenize(test_x)\n",
    "\n",
    "print(train_x[0])"
   ]
  },
  {
   "cell_type": "markdown",
   "id": "9d7a0f35",
   "metadata": {
    "pycharm": {
     "name": "#%% md\n"
    }
   },
   "source": [
    "Next, we will count all the words and rank them based on their occurrence.\n",
    "For example, if \"film\" is the second most word, it will be encoded as `2`.\n",
    "This process is also called count-vectorization. We also need to save mappings, so that\n",
    "we can translate between this and the text representation."
   ]
  },
  {
   "cell_type": "code",
   "execution_count": 6,
   "id": "a4d0ee70",
   "metadata": {
    "execution": {
     "iopub.execute_input": "2022-11-10T11:39:04.645707Z",
     "iopub.status.busy": "2022-11-10T11:39:04.645557Z",
     "iopub.status.idle": "2022-11-10T11:39:07.122666Z",
     "shell.execute_reply": "2022-11-10T11:39:07.121797Z"
    },
    "pycharm": {
     "name": "#%%\n"
    }
   },
   "outputs": [],
   "source": [
    "class CountVectorizer:\n",
    "    def __init__(self):\n",
    "        self.vec_to_str_map: Dict[int, str] = {}\n",
    "        self.str_to_vec_map: Dict[str, int] = {}\n",
    "\n",
    "    def fit(self, token_list: List[str]) -> None:\n",
    "        # The `Counter` object from the `collections` library gives us efficient counting\n",
    "        # in large lists out of box.\n",
    "        cnt = Counter(token_list)\n",
    "        sorted_cnt = sorted(cnt.items(), key=lambda item: item[1], reverse=True)\n",
    "        sorted_words = [key for key, val in sorted_cnt]\n",
    "\n",
    "        # Python does not know a bidirectional mapping by default.\n",
    "        # We trick a bit by simply creating two dicts, but note that this is inefficient.\n",
    "        self.str_to_vec_map = {sorted_words[i]: i + 1 for i in range(len(sorted_words))}\n",
    "        self.vec_to_str_map = {i + 1: sorted_words[i] for i in range(len(sorted_words))}\n",
    "\n",
    "    def transform_to_vec(self, token_list: List[str]) -> List[int]:\n",
    "        return [self.str_to_vec_map.get(word) for word in token_list]\n",
    "\n",
    "    def transform_to_str(self, token_list: List[int]) -> List[str]:\n",
    "        return [self.vec_to_str_map.get(rank) for rank in token_list]\n",
    "\n",
    "train_words = [word for word_list in train_x for word in word_list]\n",
    "test_words = [word for word_list in test_x for word in word_list]\n",
    "\n",
    "count_vectorizer = CountVectorizer()\n",
    "counter = count_vectorizer.fit(train_words)\n",
    "\n",
    "train_x = [count_vectorizer.transform_to_vec(word_list) for word_list in train_x]\n",
    "test_x = [count_vectorizer.transform_to_vec(word_list) for word_list in test_x]"
   ]
  },
  {
   "cell_type": "markdown",
   "id": "f7381091",
   "metadata": {
    "pycharm": {
     "name": "#%% md\n"
    }
   },
   "source": [
    "A sentence is now a list of integers:"
   ]
  },
  {
   "cell_type": "code",
   "execution_count": 7,
   "id": "390c1b91",
   "metadata": {
    "execution": {
     "iopub.execute_input": "2022-11-10T11:39:07.126543Z",
     "iopub.status.busy": "2022-11-10T11:39:07.126198Z",
     "iopub.status.idle": "2022-11-10T11:39:07.130734Z",
     "shell.execute_reply": "2022-11-10T11:39:07.129970Z"
    },
    "pycharm": {
     "name": "#%%\n"
    }
   },
   "outputs": [
    {
     "name": "stdout",
     "output_type": "stream",
     "text": [
      "[15344, 43, 74, 7, 1153, 16, 14, 5058, 718, 179, 67063, 19, 296, 839, 1, 16587, 4, 7074, 2369, 824, 67064, 69, 6, 74, 4595, 393, 163, 140, 6, 33, 1354, 319, 34, 202, 2149, 580, 16, 2, 262, 29, 152, 59, 378, 3, 621, 15931, 6, 32, 1, 49, 3365, 7, 2285, 16, 1, 50441, 12, 101, 471, 25, 5, 135, 9, 14, 5058, 718, 43, 2, 49, 11657, 766, 15344, 6, 2, 222, 4374, 7, 11, 1204, 1087, 11, 6, 7410, 10, 6, 1344, 15, 2, 67065, 3, 255, 10, 103, 4305, 54, 2329, 1, 974, 12, 12, 46, 18, 6, 26996, 67066, 7, 49, 73, 28, 288, 28, 116, 1056, 1, 4096, 4375, 5966, 20, 1793, 3, 2618]\n"
     ]
    }
   ],
   "source": [
    "print(train_x[0])"
   ]
  },
  {
   "cell_type": "markdown",
   "id": "66c821ed",
   "metadata": {
    "pycharm": {
     "name": "#%% md\n"
    }
   },
   "source": [
    "We can convert it back using the fitted `CountVectorizer`:"
   ]
  },
  {
   "cell_type": "code",
   "execution_count": 8,
   "id": "e677f021",
   "metadata": {
    "execution": {
     "iopub.execute_input": "2022-11-10T11:39:07.134318Z",
     "iopub.status.busy": "2022-11-10T11:39:07.133916Z",
     "iopub.status.idle": "2022-11-10T11:39:07.139424Z",
     "shell.execute_reply": "2022-11-10T11:39:07.138492Z"
    },
    "pycharm": {
     "name": "#%%\n"
    }
   },
   "outputs": [
    {
     "name": "stdout",
     "output_type": "stream",
     "text": [
      "['Zentropa', 'has', 'much', 'in', 'common', 'with', 'The', 'Third', 'Man', 'another', 'noirlike', 'film', 'set', 'among', 'the', 'rubble', 'of', 'postwar', 'Europe', 'Like', 'TTM', 'there', 'is', 'much', 'inventive', 'camera', 'work', 'There', 'is', 'an', 'innocent', 'American', 'who', 'gets', 'emotionally', 'involved', 'with', 'a', 'woman', 'he', 'doesnt', 'really', 'understand', 'and', 'whose', 'naivety', 'is', 'all', 'the', 'more', 'striking', 'in', 'contrast', 'with', 'the', 'nativesbr', 'br', 'But', 'Id', 'have', 'to', 'say', 'that', 'The', 'Third', 'Man', 'has', 'a', 'more', 'wellcrafted', 'storyline', 'Zentropa', 'is', 'a', 'bit', 'disjointed', 'in', 'this', 'respect', 'Perhaps', 'this', 'is', 'intentional', 'it', 'is', 'presented', 'as', 'a', 'dreamnightmare', 'and', 'making', 'it', 'too', 'coherent', 'would', 'spoil', 'the', 'effect', 'br', 'br', 'This', 'movie', 'is', 'unrelentingly', 'grimnoir', 'in', 'more', 'than', 'one', 'sense', 'one', 'never', 'sees', 'the', 'sun', 'shine', 'Grim', 'but', 'intriguing', 'and', 'frightening']\n"
     ]
    }
   ],
   "source": [
    "print(count_vectorizer.transform_to_str(train_x[0]))"
   ]
  },
  {
   "cell_type": "markdown",
   "id": "1771d507",
   "metadata": {
    "pycharm": {
     "name": "#%% md\n"
    }
   },
   "source": [
    "Before we feed the reviews to the network, we need to convert them from sequences of\n",
    "integers to \"bag of words\" vectors. For example, turning the sequence (3,5,9)\n",
    "into a 10 dimensional vector gives us (0,0,1,0,1,0,0,0,1,0),\n",
    "which has a 1 in the positions 3, 5 and 9 and zeros everywhere else.\n",
    "\n",
    "We only keep the 10,000 most common words, which will be the size of the input vector."
   ]
  },
  {
   "cell_type": "code",
   "execution_count": 9,
   "id": "603e0fb8",
   "metadata": {
    "execution": {
     "iopub.execute_input": "2022-11-10T11:39:07.168522Z",
     "iopub.status.busy": "2022-11-10T11:39:07.168233Z",
     "iopub.status.idle": "2022-11-10T11:39:07.217128Z",
     "shell.execute_reply": "2022-11-10T11:39:07.214460Z"
    },
    "pycharm": {
     "name": "#%%\n"
    }
   },
   "outputs": [
    {
     "name": "stdout",
     "output_type": "stream",
     "text": [
      "\n"
     ]
    }
   ],
   "source": [
    "\n",
    "def get_index_vector(sequence: List[int], size: int = 10000) -> List[int]:\n",
    "# TODO: Encode each sequence to a binary vector as described above.\n",
    "# For now we rely on plain python, thus a \"binary vector\" is only a list of ints.\n",
    "# Note: The size argument specifies the maximal number of words in the index vector.\n",
    "# Note 2: Also take care of potential `None` values.\n",
    "\n",
    "train_x = [get_index_vector(count_vector) for count_vector in train_x]\n",
    "test_x = [get_index_vector(count_vector) for count_vector in test_x]"
   ]
  },
  {
   "cell_type": "markdown",
   "id": "2f3dda96",
   "metadata": {
    "pycharm": {
     "name": "#%% md\n"
    }
   },
   "source": [
    "Lastly we need to convert the labels to a fitting format as well.\n",
    "As we only have a binary outcome, our label will be 1 for positive and\n",
    "0 for negative reviews."
   ]
  },
  {
   "cell_type": "code",
   "execution_count": 10,
   "id": "711cbb8c",
   "metadata": {
    "execution": {
     "iopub.execute_input": "2022-11-10T11:39:07.227082Z",
     "iopub.status.busy": "2022-11-10T11:39:07.226235Z",
     "iopub.status.idle": "2022-11-10T11:39:07.246515Z",
     "shell.execute_reply": "2022-11-10T11:39:07.244344Z"
    },
    "pycharm": {
     "name": "#%%\n"
    }
   },
   "outputs": [],
   "source": [
    "train_y = [1 if label == 'pos' else 0 for label in train_y]\n",
    "test_y = [1 if label == 'pos' else 0 for label in test_y]"
   ]
  },
  {
   "cell_type": "markdown",
   "id": "8c43180b",
   "metadata": {
    "pycharm": {
     "name": "#%% md\n"
    }
   },
   "source": [
    "We now have everything ready to built a Pytorch `Dataset` object,\n",
    "which is recommended for the training process.\n",
    "\n",
    "We also define `device`. This indicates the location where we would like to process data.\n",
    "By default tensors are on the CPU. If we have a GPU, we could set `device` to `cuda` to\n",
    "utilize GPU power. If we have set a device, we can then push a tensor to the desired location\n",
    "by calling `<tensor>.to(device)`. Tensors can also be created directly on the device\n",
    "by specifying the `device` argument on tensor initialization.\n",
    "In this setting device is set to `cuda` if a GPU is\n",
    "available, otherwise we'll just use the cpu.\n",
    "\n",
    "Pushing the whole dataset to GPU is often not a possibility due to memory constraints,\n",
    "but in this exercise the samll vectorized IMDB data will only consume around 3GB VRAM.\n",
    "We could also save memory by reducing the size of the input vector or using sparse tensors."
   ]
  },
  {
   "cell_type": "code",
   "execution_count": 11,
   "id": "4954efc8",
   "metadata": {
    "execution": {
     "iopub.execute_input": "2022-11-10T11:39:07.255762Z",
     "iopub.status.busy": "2022-11-10T11:39:07.255044Z",
     "iopub.status.idle": "2022-11-10T11:39:07.275111Z",
     "shell.execute_reply": "2022-11-10T11:39:07.273102Z"
    },
    "pycharm": {
     "name": "#%%\n"
    }
   },
   "outputs": [
    {
     "name": "stdout",
     "output_type": "stream",
     "text": [
      "\n"
     ]
    }
   ],
   "source": [
    "device = torch.device('cuda' if torch.cuda.is_available() else 'cpu')\n",
    "\n",
    "class IMDBDataset(Dataset):\n",
    "    def __init__(self, data: Union[List, Tuple], labels: List, device: torch.device):\n",
    "        self.data = torch.tensor(data, dtype=torch.float, device=device)\n",
    "        self.labels = torch.tensor(labels, dtype=torch.float, device=device)\n",
    "\n",
    "    # We don't need this method necessarily,\n",
    "    # but it is usually good to have direct access to the dimensions of the dataset.\n",
    "    @property\n",
    "    def shape(self) -> Tuple:\n",
    "        return self.data.shape\n",
    "\n",
    "    # The `__len__` method should return the number of samples in the dataset.\n",
    "    # This will later on be used automatically by the data loader.\n",
    "    def __len__(self) -> int:\n",
    "        return len(self.labels)\n",
    "\n",
    "    # Each Dataset needs to implement the `__get_item__` method.\n",
    "    # The method gets an index and should return the corresponding items.\n",
    "    # For example index = 5 should return the 5th review and its matching label.\n",
    "    def __getitem__(self, idx: int) -> Tuple[Tensor, Tensor]:\n",
    "# TODO: Return the correct review and label for the index."
   ]
  },
  {
   "cell_type": "markdown",
   "id": "b5c6315b",
   "metadata": {
    "pycharm": {
     "name": "#%% md\n"
    }
   },
   "source": [
    "Let’s also create a validation set to monitor the (generalization) performance of the model during training,\n",
    "by randomly taking the 10,000 samples of the training data and the corresponding labels.\n",
    "The new training set should contain only the remaining 15,000 samples."
   ]
  },
  {
   "cell_type": "code",
   "execution_count": 12,
   "id": "efb410e9",
   "metadata": {
    "execution": {
     "iopub.execute_input": "2022-11-10T11:39:07.284827Z",
     "iopub.status.busy": "2022-11-10T11:39:07.283925Z",
     "iopub.status.idle": "2022-11-10T11:39:07.298152Z",
     "shell.execute_reply": "2022-11-10T11:39:07.296594Z"
    },
    "pycharm": {
     "name": "#%%\n"
    }
   },
   "outputs": [
    {
     "name": "stdout",
     "output_type": "stream",
     "text": [
      "\n"
     ]
    }
   ],
   "source": [
    "# Get random indices for training and validation split\n",
    "shuffled_indices = list(range(len(train_x)))\n",
    "random.shuffle(shuffled_indices)\n",
    "\n",
    "train_idxs = shuffled_indices[:15000]\n",
    "val_idxs = shuffled_indices[15000:]\n",
    "\n",
    "# Plain python does not know multi index selection\n",
    "# We can still use `itemgetter` from the `operator` module to achieve what we want.\n",
    "val_x = itemgetter(*val_idxs)(train_x)\n",
    "val_y = itemgetter(*val_idxs)(train_y)\n",
    "\n",
    "train_x = itemgetter(*train_idxs)(train_x)\n",
    "train_y = itemgetter(*train_idxs)(train_y)\n",
    "\n",
    "# We can now finally initialize our PyTorch datasets.\n",
    "train_dataset = IMDBDataset(train_x, train_y, device)\n",
    "val_dataset = IMDBDataset(val_x, val_y, device)\n",
    "test_dataset = IMDBDataset(test_x, test_y, device)\n",
    "\n",
    "print('Training\\t Shape: {}'.format(train_dataset.shape))\n",
    "print('Validation\\tShape: {}'.format(val_dataset.shape))\n",
    "print('Test\\t\\tShape: {}'.format(test_dataset.shape))"
   ]
  },
  {
   "cell_type": "markdown",
   "id": "6c14bbf1",
   "metadata": {
    "pycharm": {
     "name": "#%% md\n"
    }
   },
   "source": [
    "Our data is now ready to be fed to a neural network.\n",
    "\n",
    "Let's remove the preprocessed data lists to free some RAM:"
   ]
  },
  {
   "cell_type": "code",
   "execution_count": 13,
   "id": "26ba6034",
   "metadata": {
    "execution": {
     "iopub.execute_input": "2022-11-10T11:39:07.304063Z",
     "iopub.status.busy": "2022-11-10T11:39:07.303699Z",
     "iopub.status.idle": "2022-11-10T11:39:07.313682Z",
     "shell.execute_reply": "2022-11-10T11:39:07.312565Z"
    },
    "pycharm": {
     "name": "#%%\n"
    }
   },
   "outputs": [
    {
     "name": "stdout",
     "output_type": "stream",
     "text": [
      "\n"
     ]
    }
   ],
   "source": [
    "del train_x\n",
    "del train_y\n",
    "del val_x\n",
    "del val_y\n",
    "del test_x\n",
    "del test_y"
   ]
  },
  {
   "cell_type": "markdown",
   "id": "8638bf52",
   "metadata": {
    "pycharm": {
     "name": "#%% md\n"
    }
   },
   "source": [
    "### Building the network\n",
    "When deciding on an architecture for a neural network with fully connected layers,\n",
    "the two key things to consider are:\n",
    "\n",
    " - The number of hidden layers in the network\n",
    " - The number of neurons in each of the hidden layers\n",
    "\n",
    "Increasing the depth of the network (that is, adding layers) or increasing the number\n",
    "of neurons in a given layer will increase the capacity of the network and allow it\n",
    "to learn more complex non-linear decision boundaries.\n",
    "However, making the network too large can lead to overfitting.\n",
    "\n",
    "In practice, deciding on an architecture is an iterative process where\n",
    "many different networks are trained in order to find a good setting for the\n",
    "hyperparameters. For this exercise, however, we will use a simple feedforward neural\n",
    "network with two fully-connected hidden layers consisting of 16 neurons each,\n",
    "and a single output neuron which outputs the probability of the review being 'positive'.\n",
    "\n",
    "In PyTorch the `nn` module holds all building blocks that we need.\n",
    "The `Sequential` module allows us to specify a neural network layer by layer.\n",
    "A fully connected layer is available as `Linear`.\n",
    "Simiarly we can import the activation functions as `ReLU` and `Sigmoid`.\n",
    "We need to push the model to our `device` as well."
   ]
  },
  {
   "cell_type": "code",
   "execution_count": 14,
   "id": "00422074",
   "metadata": {
    "execution": {
     "iopub.execute_input": "2022-11-10T11:39:07.318359Z",
     "iopub.status.busy": "2022-11-10T11:39:07.318057Z",
     "iopub.status.idle": "2022-11-10T11:39:07.325074Z",
     "shell.execute_reply": "2022-11-10T11:39:07.324520Z"
    },
    "pycharm": {
     "name": "#%%\n"
    }
   },
   "outputs": [
    {
     "name": "stdout",
     "output_type": "stream",
     "text": [
      "\n"
     ]
    }
   ],
   "source": [
    "input_size = train_dataset.shape[1]\n",
    "\n",
    "model = nn.Sequential(\n",
    "    nn.Linear(in_features=input_size, out_features=16),\n",
    "    nn.ReLU(),\n",
    "    nn.Linear(in_features=16, out_features=16),\n",
    "    nn.ReLU(),\n",
    "# TODO: Add the output neuron and activation.\n",
    ").to(device)"
   ]
  },
  {
   "cell_type": "markdown",
   "id": "85e8d0da",
   "metadata": {
    "pycharm": {
     "name": "#%% md\n"
    }
   },
   "source": [
    "So, we've built our model. Before we can train the network, however, we must specify:\n",
    "\n",
    "1. The loss function to use (mean squared error, cross entropy, etc) (Info: [here](https://pytorch.org/docs/stable/nn.html#loss-functions))\n",
    "2. The optimizer (SGD, Adam, RMSProp, etc.) (Info: [here](https://pytorch.org/docs/stable/optim.html))\n",
    "3. Any metrics (such as accuracy) used to measure the performance of the model"
   ]
  },
  {
   "cell_type": "code",
   "execution_count": 15,
   "id": "012171f9",
   "metadata": {
    "execution": {
     "iopub.execute_input": "2022-11-10T11:39:07.327622Z",
     "iopub.status.busy": "2022-11-10T11:39:07.327411Z",
     "iopub.status.idle": "2022-11-10T11:39:07.332843Z",
     "shell.execute_reply": "2022-11-10T11:39:07.332353Z"
    },
    "pycharm": {
     "name": "#%%\n"
    }
   },
   "outputs": [
    {
     "name": "stdout",
     "output_type": "stream",
     "text": [
      "\n"
     ]
    }
   ],
   "source": [
    "\n",
    "loss = (\n",
    "# TODO: Add the appropriate loss for binary classification.\n",
    ")\n",
    "\n",
    "optimizer = (\n",
    "# TODO: Add the RMSprop optimizer.\n",
    "# Note: You also need the specify the parameters we want to optimize.\n",
    "# You get these by calling `model.parameters()`.\n",
    ")\n",
    "\n",
    "def get_accuracy(prediction: Tensor, target: Tensor) -> float:\n",
    "    return float(torch.sum(((prediction > 0.5) == target).float()) / len(prediction))"
   ]
  },
  {
   "cell_type": "markdown",
   "id": "b1eea883",
   "metadata": {
    "pycharm": {
     "name": "#%% md\n"
    }
   },
   "source": [
    "### Fit\n",
    "We wish to train the network for 20 epochs with batches of size 512.\n",
    "In contrast to e.g. Keras, in the basic PyTorch approach we need to implement our\n",
    "training routine mostly from scratch. Luckily PyTorch provides a `DataLoader` utility,\n",
    "which allows to easily sample from our `Datasets`.\n",
    "On the downside we still need to manage metrics on our own.\n",
    "\n",
    "The `train` function below implements one version of a training loop.\n",
    "The outer `for` loop is for the number of training epochs. The inner `for` loop\n",
    "iterates over the whole dataset with the help of the `Dataloader`.\n",
    "The output of the dataloader is dependend on batch size and the definition of the\n",
    "provided `Dataset`. In our case we specified in the `__get_item__` function of\n",
    "`IMDBDataset` that a  tuple with one training sample and label should be returned.\n",
    "The dataloader does batching and collating automatically. This means in the backend\n",
    "the loader utilizes our `__get_item__` method but presents us batched results.\n",
    "In other words, for a batch size of 512 the loader gives us a tuple of a 512 x 10000\n",
    "sample matrix and a label vector of length 512, which we directly unpack into `x` and `y`.\n",
    "\n",
    "The actual training logic is straightforward. First, we need to do a forward pass and\n",
    "compute the loss. The optimization itself follows three steps.\n",
    "\n",
    "1. Make sure all gradients of the parameter tensors are zeroed or None (`optim.zero_grad()`)\n",
    "2. Backpropagate the error (`loss.backward()`)\n",
    "3. Apply the gradients using the optimizer (`optim.step`)\n",
    "\n",
    "The validation loop follows the exact same principles, but obviously we don't do any\n",
    "optimization steps. The `torch.no_grad()` context manager implies that no gradients\n",
    "are calculated and no results are stashed on the computation. This makes a significant\n",
    "difference in speed in larger models.\n",
    "\n",
    "You may notice that we have set the model in training (`model.train()`) and evaluation\n",
    "(`model.eval()`) mode. For our simple model this doesn't make a difference, but for some\n",
    "layers like `Dropout` or `BatchNormalization` this setting triggers different policies."
   ]
  },
  {
   "cell_type": "code",
   "execution_count": 16,
   "id": "321e0b9d",
   "metadata": {
    "execution": {
     "iopub.execute_input": "2022-11-10T11:39:07.335282Z",
     "iopub.status.busy": "2022-11-10T11:39:07.334960Z",
     "iopub.status.idle": "2022-11-10T11:39:07.340652Z",
     "shell.execute_reply": "2022-11-10T11:39:07.340215Z"
    },
    "pycharm": {
     "name": "#%%\n"
    }
   },
   "outputs": [
    {
     "name": "stdout",
     "output_type": "stream",
     "text": [
      "\n"
     ]
    }
   ],
   "source": [
    "\n",
    "def train(\n",
    "    model: nn.Module,\n",
    "    loss: nn.Module,\n",
    "    optimizer: torch.optim.Optimizer,\n",
    "    train_dataset: Dataset,\n",
    "    val_dataset: Dataset,\n",
    "    batch_size: int,\n",
    "    epochs: int\n",
    ") -> Dict:\n",
    "\n",
    "    # Define a dict with room for metrics that will be populated during training.\n",
    "    metrics: Dict = {\n",
    "        'train_loss': [],\n",
    "        'train_acc': [],\n",
    "        'val_loss': [],\n",
    "        'val_acc': [],\n",
    "    }\n",
    "\n",
    "    # The loader allows to shuffle the training data on the fly.\n",
    "    train_loader = DataLoader(train_dataset, batch_size=batch_size, shuffle=True)\n",
    "    val_loader = DataLoader(val_dataset, batch_size=batch_size)\n",
    "\n",
    "    for ep in range(1, epochs + 1):\n",
    "\n",
    "        batch_losses = []\n",
    "        predictions = []\n",
    "        targets = []\n",
    "\n",
    "        for batch_idx, (x, y) in enumerate(train_loader):\n",
    "\n",
    "            ############################################\n",
    "            # TRAINING LOGIC\n",
    "            ############################################\n",
    "            # Set the model to training mode\n",
    "            model.train()\n",
    "\n",
    "            # Forward pass through the model\n",
    "            y_hat = model(x).squeeze()\n",
    "            # Obtain the loss\n",
    "            batch_loss = loss(y_hat, y)\n",
    "\n",
    "# TODO: Add backpropagation of the loss and apply the gradients via the optimizer\n",
    "\n",
    "            ############################################\n",
    "\n",
    "            batch_losses.append(batch_loss)\n",
    "            predictions.append(y_hat.detach())\n",
    "            targets.append(y)\n",
    "\n",
    "\n",
    "        ep_train_loss = float(torch.mean(torch.stack(batch_losses)))\n",
    "        ep_train_acc = get_accuracy(torch.cat(predictions), torch.cat(targets))\n",
    "\n",
    "        batch_losses.clear()\n",
    "        predictions.clear()\n",
    "        targets.clear()\n",
    "\n",
    "        for batch_idx, (x, y) in enumerate(val_loader):\n",
    "\n",
    "            ############################################\n",
    "            # VALIDATION LOGIC\n",
    "            ############################################\n",
    "            # Set the model to evaluation mode\n",
    "            model.eval()\n",
    "\n",
    "            with torch.no_grad():\n",
    "\n",
    "# TODO: Do a forward pass and get the batch loss\n",
    "            ############################################\n",
    "\n",
    "            batch_losses.append(batch_loss)\n",
    "            predictions.append(y_hat.detach())\n",
    "            targets.append(y)\n",
    "\n",
    "        ep_val_loss = float(torch.mean(torch.stack(batch_losses)))\n",
    "        ep_val_acc = get_accuracy(torch.cat(predictions), torch.cat(targets))\n",
    "\n",
    "        metrics['train_loss'].append(ep_train_loss)\n",
    "        metrics['train_acc'].append(ep_train_acc)\n",
    "        metrics['val_loss'].append(ep_val_loss)\n",
    "        metrics['val_acc'].append(ep_val_acc)\n",
    "\n",
    "        print('EPOCH:\\t{:5}\\tTRAIN LOSS:\\t{:.3f}\\tTRAIN ACCURACY:\\t{:.2f}'\n",
    "              '\\tVAL LOSS:\\t {:.5f}\\tVAL ACCURACY:\\t {:.2f}'\n",
    "              .format(ep, ep_train_loss, ep_train_acc, ep_val_loss, ep_val_acc), end='\\r')\n",
    "\n",
    "    return metrics\n",
    "\n",
    "metrics = train(\n",
    "    model=model,\n",
    "    loss=loss,\n",
    "    optimizer=optimizer,\n",
    "    train_dataset=train_dataset,\n",
    "    val_dataset=val_dataset,\n",
    "    epochs=20,\n",
    "    batch_size=512\n",
    ")"
   ]
  },
  {
   "cell_type": "markdown",
   "id": "7b7fca21",
   "metadata": {
    "pycharm": {
     "name": "#%% md\n"
    }
   },
   "source": [
    "Let's visualize the training progress.\n",
    "We can utilize the `metrics` that are returned from our `train` method."
   ]
  },
  {
   "cell_type": "code",
   "execution_count": 17,
   "id": "1bca5709",
   "metadata": {
    "execution": {
     "iopub.execute_input": "2022-11-10T11:39:07.342723Z",
     "iopub.status.busy": "2022-11-10T11:39:07.342508Z",
     "iopub.status.idle": "2022-11-10T11:39:07.347264Z",
     "shell.execute_reply": "2022-11-10T11:39:07.346807Z"
    },
    "pycharm": {
     "name": "#%%\n"
    }
   },
   "outputs": [
    {
     "name": "stdout",
     "output_type": "stream",
     "text": [
      "\n"
     ]
    }
   ],
   "source": [
    "\n",
    "def get_training_progress_plot(\n",
    "        train_losses: List[float],\n",
    "        train_accs: List[float],\n",
    "        val_losses: List[float],\n",
    "        val_accs: List[float],\n",
    ") -> None:\n",
    "    fig, (ax1, ax2) = plt.subplots(1, 2, figsize=(7, 2))\n",
    "\n",
    "    ax1.set_title('Loss')\n",
    "    ax1.plot(train_losses, label='Train Loss')\n",
    "    ax1.plot(val_losses, label='Val Loss')\n",
    "    ax1.legend()\n",
    "\n",
    "    ax2.set_title('Accuracy')\n",
    "    ax2.plot(train_accs, label='Train Accuracy')\n",
    "    ax2.plot(val_accs, label='Val Accuracy')\n",
    "    ax2.legend()\n",
    "\n",
    "get_training_progress_plot(\n",
    "    metrics['train_loss'],\n",
    "    metrics['train_acc'],\n",
    "    metrics['val_loss'],\n",
    "    metrics['val_acc'],\n",
    ")"
   ]
  },
  {
   "cell_type": "markdown",
   "id": "e0d002ea",
   "metadata": {
    "pycharm": {
     "name": "#%% md\n"
    }
   },
   "source": [
    "As expected, the training loss decreases with each epoch (and training accuracy increases).\n",
    "However, the validation loss decreases initially and then begins to increase after\n",
    "the first few epochs epochs. Therefore, the network has overfit.\n",
    "\n",
    "### Evaluate\n",
    "Let's evaluate the performance of the model on the test set:"
   ]
  },
  {
   "cell_type": "code",
   "execution_count": 18,
   "id": "5e21c850",
   "metadata": {
    "execution": {
     "iopub.execute_input": "2022-11-10T11:39:07.349156Z",
     "iopub.status.busy": "2022-11-10T11:39:07.348980Z",
     "iopub.status.idle": "2022-11-10T11:39:07.353449Z",
     "shell.execute_reply": "2022-11-10T11:39:07.353068Z"
    },
    "pycharm": {
     "name": "#%%\n"
    }
   },
   "outputs": [
    {
     "name": "stdout",
     "output_type": "stream",
     "text": [
      "\n"
     ]
    }
   ],
   "source": [
    "\n",
    "def evaluate(model: nn.Module, test_dataset: Dataset, batch_size: int = 512) -> Dict:\n",
    "    batch_losses: List = []\n",
    "    predictions: List = []\n",
    "    targets: List = []\n",
    "\n",
    "    for x, y in DataLoader(test_dataset, batch_size):\n",
    "# TODO: Do a forward pass and get the batch loss\n",
    "        ############################################\n",
    "\n",
    "        batch_losses.append(batch_loss)\n",
    "        predictions.append(y_hat.detach())\n",
    "        targets.append(y)\n",
    "\n",
    "    eval_loss = float(torch.mean(torch.stack(batch_losses)))\n",
    "    eval_acc = get_accuracy(torch.cat(predictions), torch.cat(targets))\n",
    "\n",
    "    return {'test_loss': eval_loss, 'test_acc': eval_acc}\n",
    "\n",
    "eval_metrics = evaluate(model, test_dataset)\n",
    "print(eval_metrics)"
   ]
  },
  {
   "cell_type": "markdown",
   "id": "4b55147a",
   "metadata": {
    "pycharm": {
     "name": "#%% md\n"
    }
   },
   "source": [
    "Our simple model does reasonably well. It achieves an accuracy of around 85-88%.\n",
    "\n",
    "### Predict\n",
    "Finally, to generate the likelihood of the reviews being positive, we only need to\n",
    "forward data through our fitted model:"
   ]
  },
  {
   "cell_type": "code",
   "execution_count": 19,
   "id": "dd6bc90a",
   "metadata": {
    "execution": {
     "iopub.execute_input": "2022-11-10T11:39:07.355317Z",
     "iopub.status.busy": "2022-11-10T11:39:07.355144Z",
     "iopub.status.idle": "2022-11-10T11:39:07.380003Z",
     "shell.execute_reply": "2022-11-10T11:39:07.377813Z"
    },
    "pycharm": {
     "name": "#%%\n"
    }
   },
   "outputs": [
    {
     "name": "stderr",
     "output_type": "stream",
     "text": [
      "Future exception was never retrieved\n",
      "future: <Future finished exception=BrokenPipeError(32, 'Broken pipe')>\n",
      "Traceback (most recent call last):\n",
      "  File \"/usr/lib/python3.10/asyncio/unix_events.py\", line 675, in write\n",
      "    n = os.write(self._fileno, data)\n",
      "BrokenPipeError: [Errno 32] Broken pipe\n"
     ]
    },
    {
     "name": "stdout",
     "output_type": "stream",
     "text": [
      "\n"
     ]
    }
   ],
   "source": [
    "test_x = test_dataset.data[:10]\n",
    "test_y = test_dataset.labels[:10]\n",
    "predictions = model(test_x)\n",
    "\n",
    "for i in range(len(test_x)):\n",
    "    print('{} | TRUE: {} | PRED {:.2e}'.format(i, int(test_y[i]), float(predictions[i])))"
   ]
  },
  {
   "cell_type": "markdown",
   "id": "e83097df",
   "metadata": {
    "pycharm": {
     "name": "#%% md\n"
    }
   },
   "source": [
    "Now play around with the code by adding and deleting layers, changing the hidden activation, optimizer, learning rate, batch-size, etc.\n",
    "\n",
    "### Conclusion\n",
    "Here's what you should take away from this example:\n",
    "\n",
    " - You usually need to do quite a bit of preprocessing on your raw data in order to be\n",
    "able to feed it -- as tensors -- into a neural network.\n",
    " - Stacks of dense layers with `ReLU` activations can solve a wide range of problems\n",
    "(including sentiment classification), and you'll likely use them frequently.\n",
    " - As they get better on their training data, neural networks eventually start\n",
    "_overfitting_ and end up obtaining increasingly worse results on data they have never\n",
    "seen before. Be sure to always monitor performance on data that is outside of the training set.\n",
    "\n",
    "\n",
    "## Exercise 2\n",
    "In this exercise, we will look at a couple of different methods to regularize a neural\n",
    "network in order to prevent overfitting.\n",
    "\n",
    "Plotting the validation loss is a simple way to determine whether the network has\n",
    "overfit. During the first few epochs of training, both the training loss and the\n",
    "validation loss tend to decrease in tandem but after a certain point, the validation\n",
    "loss starts to increase while the training loss continues to decrease.\n",
    "It is at this point that the network begins to overfit.\n",
    "\n",
    "### Training multiple networks\n",
    "\n",
    "In order to get a feel for the overfitting behaviour of neural networks,\n",
    "we will train 3 different architectures and observe the training and validation losses.\n",
    "\n",
    "Create the first model with two hidden layers, each with 16 units and ReLU activation."
   ]
  },
  {
   "cell_type": "code",
   "execution_count": 20,
   "id": "0cb6ae23",
   "metadata": {
    "execution": {
     "iopub.execute_input": "2022-11-10T11:39:07.388835Z",
     "iopub.status.busy": "2022-11-10T11:39:07.388090Z",
     "iopub.status.idle": "2022-11-10T11:39:07.406375Z",
     "shell.execute_reply": "2022-11-10T11:39:07.403783Z"
    },
    "pycharm": {
     "name": "#%%\n"
    }
   },
   "outputs": [
    {
     "name": "stdout",
     "output_type": "stream",
     "text": [
      "\n"
     ]
    }
   ],
   "source": [
    "input_size = train_dataset.shape[1]\n",
    "\n",
    "original_model = (\n",
    "# TODO: Create the network according to the specifications above and push it to `device`.\n",
    ")"
   ]
  },
  {
   "cell_type": "markdown",
   "id": "cb0efff1",
   "metadata": {
    "pycharm": {
     "name": "#%% md\n"
    }
   },
   "source": [
    "Our second model will be similar to the first but it will be much smaller.\n",
    "Reduce the number of neurons in the hidden layers from 16 to 4, and keep everything\n",
    "else unchanged."
   ]
  },
  {
   "cell_type": "code",
   "execution_count": 21,
   "id": "766fd8ec",
   "metadata": {
    "execution": {
     "iopub.execute_input": "2022-11-10T11:39:07.415464Z",
     "iopub.status.busy": "2022-11-10T11:39:07.414331Z",
     "iopub.status.idle": "2022-11-10T11:39:07.426885Z",
     "shell.execute_reply": "2022-11-10T11:39:07.425370Z"
    },
    "pycharm": {
     "name": "#%%\n"
    }
   },
   "outputs": [
    {
     "name": "stdout",
     "output_type": "stream",
     "text": [
      "\n"
     ]
    }
   ],
   "source": [
    "\n",
    "smaller_model = (\n",
    "# TODO: Create the network according to the specifications above and push it to `device`.\n",
    ")"
   ]
  },
  {
   "cell_type": "markdown",
   "id": "a75dea04",
   "metadata": {
    "pycharm": {
     "name": "#%% md\n"
    }
   },
   "source": [
    "We now train both networks network using our `train` function for 20 epochs using a\n",
    "batch size of 512. Remember to use a separate validation dataset.\n",
    "We also need to initialize a new optimizer for the model."
   ]
  },
  {
   "cell_type": "code",
   "execution_count": 22,
   "id": "063cc260",
   "metadata": {
    "execution": {
     "iopub.execute_input": "2022-11-10T11:39:07.432790Z",
     "iopub.status.busy": "2022-11-10T11:39:07.432319Z",
     "iopub.status.idle": "2022-11-10T11:39:07.444750Z",
     "shell.execute_reply": "2022-11-10T11:39:07.443168Z"
    },
    "pycharm": {
     "name": "#%%\n"
    }
   },
   "outputs": [
    {
     "name": "stdout",
     "output_type": "stream",
     "text": [
      "\n"
     ]
    }
   ],
   "source": [
    "print('Training original model...')\n",
    "original_model_metrics = train(\n",
    "# TODO: Fill in the correct parameters for the function\n",
    ")\n",
    "\n",
    "print('Training smaller model...')\n",
    "smaller_model_metrics = train(\n",
    "# TODO: Fill in the correct parameters for the function\n",
    ")"
   ]
  },
  {
   "cell_type": "markdown",
   "id": "06935ede",
   "metadata": {
    "pycharm": {
     "name": "#%% md\n"
    }
   },
   "source": [
    "### Plotting the losses\n",
    "\n",
    "Let's compare the losses over the course of training."
   ]
  },
  {
   "cell_type": "code",
   "execution_count": 23,
   "id": "5cecaeac",
   "metadata": {
    "execution": {
     "iopub.execute_input": "2022-11-10T11:39:07.450546Z",
     "iopub.status.busy": "2022-11-10T11:39:07.450068Z",
     "iopub.status.idle": "2022-11-10T11:39:07.462714Z",
     "shell.execute_reply": "2022-11-10T11:39:07.461332Z"
    },
    "pycharm": {
     "name": "#%%\n"
    }
   },
   "outputs": [
    {
     "name": "stdout",
     "output_type": "stream",
     "text": [
      "\n"
     ]
    }
   ],
   "source": [
    "\n",
    "def compare_losses_plot(\n",
    "        first_losses: List[float],\n",
    "        second_losses: List[float],\n",
    "        first_loss_label: str,\n",
    "        second_loss_label: str\n",
    ") -> None:\n",
    "    plt.plot(first_losses, label=first_loss_label)\n",
    "    plt.plot(second_losses, label=second_loss_label)\n",
    "    plt.legend()\n",
    "    plt.show()\n",
    "\n",
    "compare_losses_plot(\n",
    "    original_model_metrics['val_loss'],\n",
    "    smaller_model_metrics['val_loss'],\n",
    "    'original',\n",
    "    'smaller'\n",
    ")"
   ]
  },
  {
   "cell_type": "markdown",
   "id": "1a46bd9a",
   "metadata": {
    "pycharm": {
     "name": "#%% md\n"
    }
   },
   "source": [
    "As you can see, the smaller network starts overfitting later than the original one and\n",
    "its performance degrades much more slowly once it starts overfitting.\n",
    "\n",
    "### Third model\n",
    "Now we build a third neural network that is even bigger than the original network.\n",
    "If the previous plot is any indication, this new network should overfit even worse\n",
    "than the original model."
   ]
  },
  {
   "cell_type": "code",
   "execution_count": 24,
   "id": "6fbc15ef",
   "metadata": {
    "execution": {
     "iopub.execute_input": "2022-11-10T11:39:07.468490Z",
     "iopub.status.busy": "2022-11-10T11:39:07.468009Z",
     "iopub.status.idle": "2022-11-10T11:39:07.480312Z",
     "shell.execute_reply": "2022-11-10T11:39:07.478926Z"
    },
    "pycharm": {
     "name": "#%%\n"
    }
   },
   "outputs": [
    {
     "name": "stdout",
     "output_type": "stream",
     "text": [
      "\n"
     ]
    }
   ],
   "source": [
    "\n",
    "bigger_model = (\n",
    "# TODO: Create a bigger network with 2 hidden layers of size 512 and push it to `device`.\n",
    ")"
   ]
  },
  {
   "cell_type": "markdown",
   "id": "d995493d",
   "metadata": {
    "pycharm": {
     "name": "#%% md\n"
    }
   },
   "source": [
    "Let's train this network:"
   ]
  },
  {
   "cell_type": "code",
   "execution_count": 25,
   "id": "f05eff01",
   "metadata": {
    "execution": {
     "iopub.execute_input": "2022-11-10T11:39:07.486140Z",
     "iopub.status.busy": "2022-11-10T11:39:07.485598Z",
     "iopub.status.idle": "2022-11-10T11:39:07.498048Z",
     "shell.execute_reply": "2022-11-10T11:39:07.496681Z"
    },
    "pycharm": {
     "name": "#%%\n"
    }
   },
   "outputs": [
    {
     "name": "stdout",
     "output_type": "stream",
     "text": [
      "\n"
     ]
    }
   ],
   "source": [
    "print('Training bigger model...')\n",
    "bigger_model_metrics = train(\n",
    "# TODO: Fill in the correct parameters for the function\n",
    "# TODO: Also use the `Adam` optimizer if there are convergence issues.\n",
    ")"
   ]
  },
  {
   "cell_type": "markdown",
   "id": "d9bebbff",
   "metadata": {
    "pycharm": {
     "name": "#%% md\n"
    }
   },
   "source": [
    "Here's how the bigger network fares compared to the reference one:"
   ]
  },
  {
   "cell_type": "code",
   "execution_count": 26,
   "id": "4f07e06d",
   "metadata": {
    "execution": {
     "iopub.execute_input": "2022-11-10T11:39:07.504163Z",
     "iopub.status.busy": "2022-11-10T11:39:07.503650Z",
     "iopub.status.idle": "2022-11-10T11:39:07.516410Z",
     "shell.execute_reply": "2022-11-10T11:39:07.514753Z"
    },
    "pycharm": {
     "name": "#%%\n"
    }
   },
   "outputs": [
    {
     "name": "stdout",
     "output_type": "stream",
     "text": [
      "\n"
     ]
    }
   ],
   "source": [
    "compare_losses_plot(\n",
    "    original_model_metrics['val_loss'],\n",
    "    bigger_model_metrics['val_loss'],\n",
    "    'original',\n",
    "    'bigger'\n",
    ")"
   ]
  },
  {
   "cell_type": "markdown",
   "id": "817b6555",
   "metadata": {
    "pycharm": {
     "name": "#%% md\n"
    }
   },
   "source": [
    "The bigger network starts overfitting almost right away, after just one epoch\n",
    "and overfits much more severely. Its validation loss is also more noisy.\n",
    "\n",
    "Let's plot the training losses:"
   ]
  },
  {
   "cell_type": "code",
   "execution_count": 27,
   "id": "ddcb918d",
   "metadata": {
    "execution": {
     "iopub.execute_input": "2022-11-10T11:39:07.522363Z",
     "iopub.status.busy": "2022-11-10T11:39:07.521887Z",
     "iopub.status.idle": "2022-11-10T11:39:07.534850Z",
     "shell.execute_reply": "2022-11-10T11:39:07.533400Z"
    },
    "pycharm": {
     "name": "#%%\n"
    }
   },
   "outputs": [
    {
     "name": "stdout",
     "output_type": "stream",
     "text": [
      "\n"
     ]
    }
   ],
   "source": [
    "compare_losses_plot(\n",
    "    original_model_metrics['train_loss'],\n",
    "    bigger_model_metrics['train_loss'],\n",
    "    'original',\n",
    "    'bigger'\n",
    ")"
   ]
  },
  {
   "cell_type": "markdown",
   "id": "7af94e94",
   "metadata": {
    "pycharm": {
     "name": "#%% md\n"
    }
   },
   "source": [
    "As you can see, the bigger network gets its training loss near zero very quickly.\n",
    "The more capacity the network has, the quicker it will be able to model the training\n",
    "data (resulting in a low training loss), but the more susceptible it is to overfitting\n",
    "(resulting in a large difference between the training and validation loss).\n",
    "\n",
    "### Adding weight regularization\n",
    "\n",
    "Regularizing a model in PyTorch can be done over the additional `weight_decay`\n",
    "argument in the optimizer function. By setting a coefficient there, the linked\n",
    "parameters will have a L2 penalty.\n",
    "\n",
    "In the following we redeclare the original model, set an optimizer with\n",
    "`weight_decay` coefficient of 0.001 and fit it."
   ]
  },
  {
   "cell_type": "code",
   "execution_count": 28,
   "id": "d0407687",
   "metadata": {
    "execution": {
     "iopub.execute_input": "2022-11-10T11:39:07.540291Z",
     "iopub.status.busy": "2022-11-10T11:39:07.539929Z",
     "iopub.status.idle": "2022-11-10T11:39:07.549865Z",
     "shell.execute_reply": "2022-11-10T11:39:07.549110Z"
    },
    "pycharm": {
     "name": "#%%\n"
    }
   },
   "outputs": [
    {
     "name": "stdout",
     "output_type": "stream",
     "text": [
      "\n"
     ]
    }
   ],
   "source": [
    "regularized_model = nn.Sequential(\n",
    "        nn.Linear(in_features=input_size, out_features=16),\n",
    "        nn.ReLU(),\n",
    "        nn.Linear(in_features=16, out_features=16),\n",
    "        nn.ReLU(),\n",
    "        nn.Linear(in_features=16, out_features=1),\n",
    "        nn.Sigmoid()\n",
    ").to(device)\n",
    "\n",
    "regularized_model_metrics = train(\n",
    "    model=regularized_model,\n",
    "    loss=nn.BCELoss(),\n",
    "    optimizer=RMSprop(regularized_model.parameters(), weight_decay=0.001),\n",
    "    train_dataset=train_dataset,\n",
    "    val_dataset=val_dataset,\n",
    "    epochs=20,\n",
    "    batch_size=512\n",
    ")\n",
    "\n",
    "compare_losses_plot(\n",
    "    original_model_metrics['val_loss'],\n",
    "    regularized_model_metrics['val_loss'],\n",
    "    'original',\n",
    "    'regularized'\n",
    ")"
   ]
  },
  {
   "cell_type": "markdown",
   "id": "735e19e3",
   "metadata": {
    "pycharm": {
     "name": "#%% md\n"
    }
   },
   "source": [
    "As you can see, the regularized model does not overfit as much,\n",
    "even though both models have the same number of parameters.\n",
    "Feel free to play with the regularization strength to get a feel on how different\n",
    "settings affect learning. When is regularization preventing the network from\n",
    "learning anything at all? When is regularization so weak it does not make a difference?\n",
    "\n",
    "### Dropout regularization\n",
    "Dropout is a very popular technique to regularize neural nets.\n",
    "It works by randomly turning off (or \"dropping out\")  the input/hidden neurons in a\n",
    "network. This means that every neuron is trained on a different set of examples.\n",
    "Note that dropout is, in most cases, only used during training time.\n",
    "At test time, all units are used with their activations scaled down by the dropout rate\n",
    "to account for the fact that all neurons were used for the prediction.\n",
    "Normally, dropout is not applied to the inputs.\n",
    "\n",
    "In Keras, dropout is implemented as its own separate layer (`Dropout`) that takes as\n",
    "input the probability to _drop_ units. To apply dropout to a layer, place a `Dropout` after\n",
    "it while stacking layers. The dropout will be ignored if the model is in `eval` mode.\n",
    "Luckily, we already set the correct modes for training and evaluation in our `train`\n",
    "function."
   ]
  },
  {
   "cell_type": "code",
   "execution_count": 29,
   "id": "a981e6a1",
   "metadata": {
    "execution": {
     "iopub.execute_input": "2022-11-10T11:39:07.553471Z",
     "iopub.status.busy": "2022-11-10T11:39:07.553101Z",
     "iopub.status.idle": "2022-11-10T11:39:07.559974Z",
     "shell.execute_reply": "2022-11-10T11:39:07.559427Z"
    },
    "pycharm": {
     "name": "#%%\n"
    }
   },
   "outputs": [
    {
     "name": "stdout",
     "output_type": "stream",
     "text": [
      "\n"
     ]
    }
   ],
   "source": [
    "dropout_model = nn.Sequential(\n",
    "# TODO: Keep the structure of the original model,\n",
    "# but add dropout after the hidden layers with prob=0.5\n",
    ").to(device)\n",
    "\n",
    "dropout_model_metrics = train(\n",
    "    model=dropout_model,\n",
    "    loss=nn.BCELoss(),\n",
    "    optimizer=RMSprop(dropout_model.parameters()),\n",
    "    train_dataset=train_dataset,\n",
    "    val_dataset=val_dataset,\n",
    "    epochs=20,\n",
    "    batch_size=512\n",
    ")\n",
    "\n",
    "compare_losses_plot(\n",
    "    original_model_metrics['val_loss'],\n",
    "    dropout_model_metrics['val_loss'],\n",
    "    'original',\n",
    "    'dropout'\n",
    ")"
   ]
  },
  {
   "cell_type": "markdown",
   "id": "4635f137",
   "metadata": {
    "pycharm": {
     "name": "#%% md\n"
    }
   },
   "source": [
    "Once again, we see a marked improvement in the new model.\n",
    "\n",
    "### Early Stopping\n",
    "\n",
    "Previously, we were training the network and checking _after training_ when it started\n",
    "to overfit. But another very popular method to regularize a network is to stop\n",
    "training earlier than the specified number of epochs, by checking when the validation\n",
    "loss starts to increase.\n",
    "\n",
    "There are no out of box utilities to achieve this kind of behavior, so we will adjust\n",
    "the training loop accordingly.\n",
    "We also add the `patience` argument to the function.\n",
    "`patience` indicates how many epochs to wait for an improvement of the validation loss.\n",
    "If there is no improvement for more than `patience` epochs, training is interrupted.\n",
    "\n",
    "NOTE: We only implement a very naive method of early stopping. Usually you would\n",
    "need to roll back the weights to the epoch, which had the last improvement (early\n",
    "stopping epoch minus patience). However, checkpointing and caching weights is out\n",
    "of scope of this exercise."
   ]
  },
  {
   "cell_type": "code",
   "execution_count": 30,
   "id": "c4d1589d",
   "metadata": {
    "execution": {
     "iopub.execute_input": "2022-11-10T11:39:07.562582Z",
     "iopub.status.busy": "2022-11-10T11:39:07.562372Z",
     "iopub.status.idle": "2022-11-10T11:39:07.571239Z",
     "shell.execute_reply": "2022-11-10T11:39:07.568820Z"
    },
    "pycharm": {
     "name": "#%%\n"
    }
   },
   "outputs": [
    {
     "name": "stdout",
     "output_type": "stream",
     "text": [
      "\n"
     ]
    }
   ],
   "source": [
    "\n",
    "def train(\n",
    "    model: nn.Module,\n",
    "    loss: nn.Module,\n",
    "    optimizer: torch.optim.Optimizer,\n",
    "    train_dataset: Dataset,\n",
    "    val_dataset: Dataset,\n",
    "    batch_size: int,\n",
    "    epochs: int,\n",
    "    early_stopping: bool = False,\n",
    "    patience: int = 2,\n",
    ") -> Dict:\n",
    "\n",
    "    # Define a dict with room for metrics that will be populated during training.\n",
    "    metrics: Dict = {\n",
    "        'train_loss': [],\n",
    "        'train_acc': [],\n",
    "        'val_loss': [],\n",
    "        'val_acc': [],\n",
    "    }\n",
    "\n",
    "    # Track how often in a row no improvements happen\n",
    "    early_stopping_strikes = 0\n",
    "\n",
    "    # The loader allows to shuffle the training data on the fly.\n",
    "    train_loader = DataLoader(train_dataset, batch_size=batch_size, shuffle=True)\n",
    "    val_loader = DataLoader(val_dataset, batch_size=batch_size)\n",
    "\n",
    "    for ep in range(1, epochs + 1):\n",
    "\n",
    "        batch_losses = []\n",
    "        predictions = []\n",
    "        targets = []\n",
    "\n",
    "        for batch_idx, (x, y) in enumerate(train_loader):\n",
    "            model.train()\n",
    "\n",
    "            y_hat = model(x).squeeze()\n",
    "            batch_loss = loss(y_hat, y)\n",
    "\n",
    "            optimizer.zero_grad()\n",
    "            batch_loss.backward()\n",
    "            optimizer.step()\n",
    "\n",
    "            batch_losses.append(batch_loss)\n",
    "            predictions.append(y_hat.detach())\n",
    "            targets.append(y)\n",
    "\n",
    "\n",
    "        ep_train_loss = float(torch.mean(torch.stack(batch_losses)))\n",
    "        ep_train_acc = get_accuracy(torch.cat(predictions), torch.cat(targets))\n",
    "\n",
    "        batch_losses.clear()\n",
    "        predictions.clear()\n",
    "        targets.clear()\n",
    "\n",
    "        for batch_idx, (x, y) in enumerate(val_loader):\n",
    "            model.eval()\n",
    "\n",
    "            with torch.no_grad():\n",
    "                y_hat = model(x).squeeze()\n",
    "                batch_loss = loss(y_hat, y)\n",
    "\n",
    "            batch_losses.append(batch_loss)\n",
    "            predictions.append(y_hat.detach())\n",
    "            targets.append(y)\n",
    "\n",
    "        ep_val_loss = float(torch.mean(torch.stack(batch_losses)))\n",
    "        ep_val_acc = get_accuracy(torch.cat(predictions), torch.cat(targets))\n",
    "\n",
    "        metrics['train_loss'].append(ep_train_loss)\n",
    "        metrics['train_acc'].append(ep_train_acc)\n",
    "        metrics['val_loss'].append(ep_val_loss)\n",
    "        metrics['val_acc'].append(ep_val_acc)\n",
    "\n",
    "        print('EPOCH:\\t{:5}\\tTRAIN LOSS:\\t{:.3f}\\tTRAIN ACCURACY:\\t{:.2f}'\n",
    "              '\\tVAL LOSS:\\t {:.5f}\\tVAL ACCURACY:\\t {:.2f}'\n",
    "              .format(ep, ep_train_loss, ep_train_acc, ep_val_loss, ep_val_acc), end='\\r')\n",
    "\n",
    "        ###############################################################\n",
    "        # EARLY STOPPING\n",
    "        ###############################################################\n",
    "        if early_stopping and ep > 1:\n",
    "            if metrics['val_loss'][-2] <= metrics['val_loss'][-1]:\n",
    "                early_stopping_strikes += 1\n",
    "            else:\n",
    "                early_stopping_strikes = 0\n",
    "\n",
    "# TODO: Abort training when `early_stopping_strikes` has reached `patience`.\n",
    "\n",
    "    return metrics"
   ]
  },
  {
   "cell_type": "markdown",
   "id": "95e884cc",
   "metadata": {
    "pycharm": {
     "name": "#%% md\n"
    }
   },
   "source": [
    "Let's train the dropout model with early stopping and patience of 2.:"
   ]
  },
  {
   "cell_type": "code",
   "execution_count": 31,
   "id": "934464d4",
   "metadata": {
    "execution": {
     "iopub.execute_input": "2022-11-10T11:39:07.580642Z",
     "iopub.status.busy": "2022-11-10T11:39:07.579485Z",
     "iopub.status.idle": "2022-11-10T11:39:07.592037Z",
     "shell.execute_reply": "2022-11-10T11:39:07.590864Z"
    },
    "pycharm": {
     "name": "#%%\n"
    }
   },
   "outputs": [
    {
     "name": "stdout",
     "output_type": "stream",
     "text": [
      "\n"
     ]
    }
   ],
   "source": [
    "early_dropout_model = nn.Sequential(\n",
    "        nn.Linear(in_features=input_size, out_features=16),\n",
    "        nn.ReLU(),\n",
    "        nn.Dropout(0.5),\n",
    "        nn.Linear(in_features=16, out_features=16),\n",
    "        nn.ReLU(),\n",
    "        nn.Dropout(0.5),\n",
    "        nn.Linear(in_features=16, out_features=1),\n",
    "        nn.Sigmoid()\n",
    ").to(device)\n",
    "\n",
    "early_dropout_model_metrics = train(\n",
    "    model=early_dropout_model,\n",
    "    loss=nn.BCELoss(),\n",
    "    optimizer=RMSprop(early_dropout_model.parameters()),\n",
    "    train_dataset=train_dataset,\n",
    "    val_dataset=val_dataset,\n",
    "    epochs=20,\n",
    "    batch_size=512,\n",
    "    early_stopping=True,\n",
    "    patience=2\n",
    ")\n",
    "\n",
    "compare_losses_plot(\n",
    "    early_dropout_model_metrics['val_loss'],\n",
    "    dropout_model_metrics['val_loss'],\n",
    "    'early stopping',\n",
    "    'dropout'\n",
    ")"
   ]
  },
  {
   "cell_type": "markdown",
   "id": "5b034a98",
   "metadata": {
    "pycharm": {
     "name": "#%% md\n"
    }
   },
   "source": [
    "As you can see, the early stopping callback worked\n",
    "and the model was trained for only a few epochs.\n",
    "Now, evaluate this model on the test data:"
   ]
  },
  {
   "cell_type": "code",
   "execution_count": 32,
   "id": "7509ad63",
   "metadata": {
    "execution": {
     "iopub.execute_input": "2022-11-10T11:39:07.596656Z",
     "iopub.status.busy": "2022-11-10T11:39:07.595931Z",
     "iopub.status.idle": "2022-11-10T11:39:07.606290Z",
     "shell.execute_reply": "2022-11-10T11:39:07.605427Z"
    },
    "pycharm": {
     "name": "#%%\n"
    }
   },
   "outputs": [
    {
     "name": "stdout",
     "output_type": "stream",
     "text": [
      "\n"
     ]
    }
   ],
   "source": [
    "\n",
    "# TODO: Evaluate this model on the test data and print the metrics."
   ]
  },
  {
   "cell_type": "markdown",
   "id": "a70a4e13",
   "metadata": {
    "pycharm": {
     "name": "#%% md\n"
    }
   },
   "source": [
    "As you can see, the loss is close to the lowest loss in the graph.\n",
    "\n",
    "The take-home message for this exercise is: large neural networks can easily overfit,\n",
    "especially with small training sets. This means that the network learns spurious patterns\n",
    " that are present in the training data and, therefore, fails to generalize to unseen examples.\n",
    " In such a scenario, your options are:\n",
    "\n",
    " 1. Get more training data\n",
    " 2. Reduce the size of the network\n",
    " 3. Regularize the network\n",
    "\n",
    "## Exercise 3\n",
    "\n",
    "Consider an error function of the form:\n",
    "\n",
    "\\begin{equation}\n",
    "E=\\frac 1 2 \\lambda_1 x_1^2+\\frac 1 2 \\lambda_2 x_2^2\n",
    "\\end{equation}\n",
    "\n",
    "With $\\lambda_1\\geq 0$ and $\\lambda_2\\geq 0$. First, show that the global minimum of\n",
    "$E$ is at $x_1=x_2=0$, then find the matrix $\\textbf{H}$ such that $E=1/2 \\cdot \\textbf{x}^T\\textbf{H}\\textbf{x}$.\n",
    "Show that the two eigenvectors $\\textbf{u}_1$ and $\\textbf{u}_2$ of this matrix are\n",
    "axis-aligned, and have $\\lambda_1$ and $\\lambda_2$ as eigenvalues.\n",
    "\n",
    "Note that any vector $\\textbf{x}$ can be expressed as\n",
    "\n",
    "\\begin{equation}\n",
    "\\textbf{x}=\\sum_i \\alpha_i\\textbf{u}_i\n",
    "\\end{equation}\n",
    "where $\\alpha_i$ is the distance from the origin to $\\textbf{x}$ along the $i$-th axis\n",
    "(assuming the eigenvectors have unit length). Now find the gradient of $E$ with respect\n",
    "to $\\textbf{x}$, and express it in terms of $\\alpha_i$, $\\lambda_i$ and $\\textbf{u}_i$.\n",
    "\n",
    "Then, use this gradient to perform one step of gradient descent, i.e. compute\n",
    "\n",
    "\\begin{equation}\n",
    "\\textbf{x}^\\prime=\\textbf{x}-\\eta\\nabla_{\\textbf{x}}E\n",
    "\\end{equation}\n",
    "\n",
    "And show that\n",
    "\n",
    "\\begin{equation}\n",
    "\\alpha^\\prime_i=(1-\\eta\\lambda_i)\\alpha_i\n",
    "\\end{equation}\n",
    "\n",
    "Which means that the distances from the origin to the current location evolve\n",
    "independently for each axis, and at every step the distance along the direction\n",
    "$\\textbf{u}_i$ is multiplied by $(1-\\eta\\lambda_i)$. After $T$ steps, we have\n",
    "\n",
    "\\begin{equation}\n",
    "\\alpha^{(T)}_i=(1-\\eta\\lambda_i)^T\\alpha^{(0)}_i\n",
    "\\end{equation}\n",
    "So that, as long as $|1-\\eta\\lambda_i|<1$ for every $i$, $\\textbf{x}^{(T)}$ converges\n",
    "to the origin as $T$ goes to infinity.\n",
    "\n",
    "Now, find the largest learning rate that guarantees convergence along all directions\n",
    "and show that, when using this learning rate, the slowest direction of convergence is\n",
    "along the eigenvector with the smallest eigenvalue. Also show that the rate of\n",
    "convegence along this direction is:\n",
    "\n",
    "\\begin{equation}\n",
    "\\left(1-2\\frac{\\lambda_{\\text{min}}}{\\lambda_{\\text{max}}}\\right)\n",
    "\\end{equation}\n",
    "\n",
    "Where $\\lambda_{\\text{min}}$ and $\\lambda_{\\text{max}}$ are the smallest and largest\n",
    "eigenvalues of $\\textbf{H}$.\n",
    "\n",
    "This exercise shows that the largest eigenvalue determines the maximum learning rate,\n",
    "and that the relationship between smallest and largest eigenvalues determines the speed\n",
    "of convergence. Note that the ratio $\\lambda_{\\text{max}}/\\lambda_{\\text{min}}$ is known\n",
    "as the _condition number_ of $\\textbf{H}$, and plays an important role in numerical\n",
    "analysis. Matrices with large condition number make optimization algorithms slower and/or\n",
    "more imprecise.\n",
    "\n",
    "\n",
    "## Exercise 4\n",
    "In this exercise we play a bit with the quadratic error surfaces that we analyzed in the\n",
    "previous exercise. We will apply the insights we got, and test different forms of\n",
    "gradient descent. The purpose is to get an intuitive feeling for how these things work,\n",
    "and for this some playful interaction is required from your side.\n",
    "\n",
    "Remember that the error function was:\n",
    "\n",
    "\\begin{equation}\n",
    "E=\\frac 1 2 \\lambda_1 x_1^2+\\frac 1 2 \\lambda_2 x_2^2\n",
    "\\end{equation}\n",
    "\n",
    "We first create an object to compute $E$ and its gradient:"
   ]
  },
  {
   "cell_type": "code",
   "execution_count": 33,
   "id": "0fa917a8",
   "metadata": {
    "execution": {
     "iopub.execute_input": "2022-11-10T11:39:07.610398Z",
     "iopub.status.busy": "2022-11-10T11:39:07.610011Z",
     "iopub.status.idle": "2022-11-10T11:39:07.618843Z",
     "shell.execute_reply": "2022-11-10T11:39:07.617755Z"
    },
    "pycharm": {
     "name": "#%%\n"
    }
   },
   "outputs": [
    {
     "name": "stdout",
     "output_type": "stream",
     "text": [
      "\n"
     ]
    }
   ],
   "source": [
    "\n",
    "class Function:\n",
    "    def __init__(self, lambda_1: float, lambda_2: float):\n",
    "        self.lambda_1 = lambda_1\n",
    "        self.lambda_2 = lambda_2\n",
    "\n",
    "    def __call__(self, x: Tensor) -> Tensor:\n",
    "        return self.lambda_1 * x[:, 0]**2 / 2 + self.lambda_2 * x[:, 1]**2 / 2\n",
    "\n",
    "    def grad(self, x:Tensor) -> Tensor:\n",
    "        return torch.stack([\n",
    "# TODO: Compute the two components of the gradient of E at x\n",
    "        ]).T\n",
    "\n",
    "    def plot(self, show: bool = False):\n",
    "        grid_range = torch.linspace(-5, 5, 50)\n",
    "        grid_x, grid_y = torch.meshgrid(grid_range, grid_range)\n",
    "        grid_data = torch.stack([grid_x.flatten(), grid_y.flatten()]).T\n",
    "        plt.contour(grid_x, grid_y, self(grid_data).view(grid_x.shape))\n",
    "        if show:\n",
    "            plt.show()\n",
    "\n",
    "quad_function = Function(lambda_1=1, lambda_2=10)"
   ]
  },
  {
   "cell_type": "markdown",
   "id": "819252ef",
   "metadata": {
    "pycharm": {
     "name": "#%% md\n"
    }
   },
   "source": [
    "And we visualize a contour plot of the surface:"
   ]
  },
  {
   "cell_type": "code",
   "execution_count": 34,
   "id": "45f57b3f",
   "metadata": {
    "execution": {
     "iopub.execute_input": "2022-11-10T11:39:07.621515Z",
     "iopub.status.busy": "2022-11-10T11:39:07.621223Z",
     "iopub.status.idle": "2022-11-10T11:39:07.626380Z",
     "shell.execute_reply": "2022-11-10T11:39:07.625921Z"
    },
    "pycharm": {
     "name": "#%%\n"
    }
   },
   "outputs": [
    {
     "name": "stdout",
     "output_type": "stream",
     "text": [
      "\n"
     ]
    }
   ],
   "source": [
    "quad_function.plot()"
   ]
  },
  {
   "cell_type": "markdown",
   "id": "44c0848b",
   "metadata": {
    "pycharm": {
     "name": "#%% md\n"
    }
   },
   "source": [
    "We now create a vanilla gradient descent optimizer that returns all points\n",
    "visited during the process:"
   ]
  },
  {
   "cell_type": "code",
   "execution_count": 35,
   "id": "11dc98f0",
   "metadata": {
    "execution": {
     "iopub.execute_input": "2022-11-10T11:39:07.629324Z",
     "iopub.status.busy": "2022-11-10T11:39:07.629079Z",
     "iopub.status.idle": "2022-11-10T11:39:07.633759Z",
     "shell.execute_reply": "2022-11-10T11:39:07.633355Z"
    },
    "pycharm": {
     "name": "#%%\n"
    }
   },
   "outputs": [
    {
     "name": "stdout",
     "output_type": "stream",
     "text": [
      "\n"
     ]
    }
   ],
   "source": [
    "def do_gradient_descent(x: Tensor, func_obj: Function, max_steps: int, lr: float) -> Tensor:\n",
    "    path: List = [x.clone()]\n",
    "    for _ in range(max_steps):\n",
    "# TODO: Modify `x` performing one step of gradient descent\n",
    "        path.append(x.clone())\n",
    "    return torch.cat(path)\n",
    "\n",
    "hist_slow = do_gradient_descent(torch.tensor([[4., 4.]]), quad_function, 10, 0.05)\n",
    "hist_fast = do_gradient_descent(torch.tensor([[4., 4.]]), quad_function, 10, 0.15)"
   ]
  },
  {
   "cell_type": "markdown",
   "id": "2534f90d",
   "metadata": {
    "pycharm": {
     "name": "#%% md\n"
    }
   },
   "source": [
    "And a function that plots several traces together, so that we can compare them:"
   ]
  },
  {
   "cell_type": "code",
   "execution_count": 36,
   "id": "7277666a",
   "metadata": {
    "execution": {
     "iopub.execute_input": "2022-11-10T11:39:07.636313Z",
     "iopub.status.busy": "2022-11-10T11:39:07.636133Z",
     "iopub.status.idle": "2022-11-10T11:39:07.640542Z",
     "shell.execute_reply": "2022-11-10T11:39:07.640144Z"
    },
    "pycharm": {
     "name": "#%%\n"
    }
   },
   "outputs": [
    {
     "name": "stdout",
     "output_type": "stream",
     "text": [
      "\n"
     ]
    }
   ],
   "source": [
    "def plot_histories(histories: List[Tensor], labels: List[str]) -> None:\n",
    "    for history, label in zip(histories, labels):\n",
    "        plt.plot(history[:, 0], history[:, 1], label=label)\n",
    "    plt.legend()\n",
    "\n",
    "quad_function.plot()\n",
    "plot_histories([hist_slow, hist_fast], ['fast', 'slow'])"
   ]
  },
  {
   "cell_type": "markdown",
   "id": "e5192c14",
   "metadata": {
    "pycharm": {
     "name": "#%% md\n"
    }
   },
   "source": [
    "Now, recall from the previous exercise that the learning rate cannot be larger than\n",
    "$2\\lambda_{\\text{min}}/\\lambda_{\\text{max}}$.\n",
    "Compute this upper bound for the example here, use it to optimize the error starting\n",
    "from $\\textbf{x}=|4,4|^T$, and plot the resulting trajectory.\n",
    "What can you notice?\n",
    "Try to slightly reduce it and increase it, and verify that when it is larger than the\n",
    "upper bound, the procedure diverges."
   ]
  },
  {
   "cell_type": "code",
   "execution_count": 37,
   "id": "61baed19",
   "metadata": {
    "execution": {
     "iopub.execute_input": "2022-11-10T11:39:07.643140Z",
     "iopub.status.busy": "2022-11-10T11:39:07.642937Z",
     "iopub.status.idle": "2022-11-10T11:39:07.647717Z",
     "shell.execute_reply": "2022-11-10T11:39:07.647293Z"
    },
    "pycharm": {
     "name": "#%%\n"
    }
   },
   "outputs": [
    {
     "name": "stdout",
     "output_type": "stream",
     "text": [
      "\n"
     ]
    }
   ],
   "source": [
    "max_learning_rate =(\n",
    "# TODO: Compute the maximum learning rate possible in this case.\n",
    ")\n",
    "\n",
    "hist_max = do_gradient_descent(torch.tensor([[4., 4.]]), quad_function, 10, max_learning_rate)\n",
    "quad_function.plot()\n",
    "plot_histories([hist_max], ['boundary'])"
   ]
  },
  {
   "cell_type": "markdown",
   "id": "94c5cfbd",
   "metadata": {
    "pycharm": {
     "name": "#%% md\n"
    }
   },
   "source": [
    "Now try to change the eigenvalues so as to increase the condition number\n",
    "and verify that convergence becomes slower as the condition number increases:"
   ]
  },
  {
   "cell_type": "code",
   "execution_count": 38,
   "id": "cac41ae0",
   "metadata": {
    "execution": {
     "iopub.execute_input": "2022-11-10T11:39:07.649555Z",
     "iopub.status.busy": "2022-11-10T11:39:07.649408Z",
     "iopub.status.idle": "2022-11-10T11:39:07.653649Z",
     "shell.execute_reply": "2022-11-10T11:39:07.653287Z"
    },
    "pycharm": {
     "name": "#%%\n"
    }
   },
   "outputs": [
    {
     "name": "stdout",
     "output_type": "stream",
     "text": [
      "\n"
     ]
    }
   ],
   "source": [
    "quad_function = Function(lambda_1=1, lambda_2=30)\n",
    "\n",
    "max_learning_rate =(\n",
    "# TODO: Compute the maximum learning rate possible in this case.\n",
    ")\n",
    "hist_max = do_gradient_descent(torch.tensor([[4., 4.]]), quad_function, 10, max_learning_rate)\n",
    "quad_function.plot()\n",
    "plot_histories([hist_max], ['boundary'])"
   ]
  },
  {
   "cell_type": "markdown",
   "id": "7c74e9e1",
   "metadata": {
    "pycharm": {
     "name": "#%% md\n"
    }
   },
   "source": [
    "Finally, modify the optimizer to use momentum, and verify that convergence becomes faster:"
   ]
  },
  {
   "cell_type": "code",
   "execution_count": 39,
   "id": "3539c855",
   "metadata": {
    "execution": {
     "iopub.execute_input": "2022-11-10T11:39:07.655423Z",
     "iopub.status.busy": "2022-11-10T11:39:07.655268Z",
     "iopub.status.idle": "2022-11-10T11:39:07.659785Z",
     "shell.execute_reply": "2022-11-10T11:39:07.659434Z"
    },
    "pycharm": {
     "name": "#%%\n"
    }
   },
   "outputs": [
    {
     "name": "stdout",
     "output_type": "stream",
     "text": [
      "\n"
     ]
    }
   ],
   "source": [
    "def do_momentum_gd(\n",
    "        x: Tensor, func_obj: Function, max_steps: int, lr: float, momentum: float) -> Tensor:\n",
    "    path: List = [x.clone()]\n",
    "    velocity = torch.zeros(x.shape)\n",
    "    for _ in range(max_steps):\n",
    "# TODO: Modify `x` and the velocity performing one step of gd with momentum.\n",
    "        path.append(x.clone())\n",
    "    return torch.cat(path)\n",
    "\n",
    "momentum = (\n",
    "# #   try several values for the momentum\n",
    ")\n",
    "\n",
    "hist_momentum = do_momentum_gd(\n",
    "    x=torch.tensor([[4., 4.]]),\n",
    "    func_obj=quad_function,\n",
    "    max_steps=10,\n",
    "    lr=max_learning_rate,\n",
    "    momentum=momentum\n",
    ")\n",
    "quad_function.plot()\n",
    "plot_histories([hist_max, hist_momentum], ['vanilla', 'momentum'])"
   ]
  },
  {
   "cell_type": "markdown",
   "id": "fc1f5b42",
   "metadata": {
    "pycharm": {
     "name": "#%% md\n"
    }
   },
   "source": [
    "Now explore the convergence behavior as momentum and learning rate change.\n",
    "Does momentum bring any improvement when the condition number is one\n",
    "(i.e. the eigenvalues are identical)?"
   ]
  }
 ],
 "metadata": {
  "kernelspec": {
   "display_name": "Python 3",
   "language": "python",
   "name": "python3"
  },
  "language_info": {
   "codemirror_mode": {
    "name": "ipython",
    "version": 3
   },
   "file_extension": ".py",
   "mimetype": "text/x-python",
   "name": "python",
   "nbconvert_exporter": "python",
   "pygments_lexer": "ipython3",
   "version": "3.10.6"
  }
 },
 "nbformat": 4,
 "nbformat_minor": 5
}
