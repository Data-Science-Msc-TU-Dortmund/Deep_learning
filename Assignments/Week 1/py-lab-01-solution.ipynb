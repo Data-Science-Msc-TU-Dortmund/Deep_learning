{
 "cells": [
  {
   "cell_type": "raw",
   "id": "c8e27181",
   "metadata": {},
   "source": [
    "---\n",
    "output: pdf_document\n",
    "---"
   ]
  },
  {
   "cell_type": "markdown",
   "id": "4abfa95c",
   "metadata": {
    "pycharm": {
     "name": "#%% md\n"
    }
   },
   "source": [
    "# Deep Learning -- Lab Session 1\n",
    "\n",
    "*Winter Semester 2022/23*\n",
    "\n",
    "\n",
    "Welcome to the very first lab, in which we will have fun with logistic regression.\n",
    "\n",
    "## Imports"
   ]
  },
  {
   "cell_type": "code",
   "execution_count": 1,
   "id": "05719cf7",
   "metadata": {
    "execution": {
     "iopub.execute_input": "2022-10-13T10:40:56.757720Z",
     "iopub.status.busy": "2022-10-13T10:40:56.757246Z",
     "iopub.status.idle": "2022-10-13T10:40:57.667987Z",
     "shell.execute_reply": "2022-10-13T10:40:57.667445Z"
    },
    "pycharm": {
     "name": "#%%\n"
    }
   },
   "outputs": [],
   "source": [
    "import torch\n",
    "from torch import Tensor\n",
    "\n",
    "import matplotlib.pyplot as plt\n",
    "from  matplotlib_inline.backend_inline import set_matplotlib_formats\n",
    "set_matplotlib_formats('png', 'pdf')"
   ]
  },
  {
   "cell_type": "markdown",
   "id": "7b8f445f",
   "metadata": {
    "pycharm": {
     "name": "#%% md\n"
    }
   },
   "source": [
    "## Exercise 1\n",
    "\n",
    "Suppose you have five input points, $\\textbf{x}_1=|0,0|^T$, $\\textbf{x}_2=|1,0|^T$,\n",
    "$\\textbf{x}_3=|0,-1|^T$, $\\textbf{x}_4=|-1,0|^T$ and $\\textbf{x}_5=|0,1|^T$, and\n",
    "the corresponding classes are $y_1=y_2=y_3=0$ and $y_4=y_5=1$:"
   ]
  },
  {
   "cell_type": "code",
   "execution_count": 2,
   "id": "a3a5fae9",
   "metadata": {
    "execution": {
     "iopub.execute_input": "2022-10-13T10:40:57.670533Z",
     "iopub.status.busy": "2022-10-13T10:40:57.670308Z",
     "iopub.status.idle": "2022-10-13T10:40:57.674140Z",
     "shell.execute_reply": "2022-10-13T10:40:57.673428Z"
    },
    "pycharm": {
     "name": "#%%\n"
    }
   },
   "outputs": [],
   "source": [
    "x = torch.tensor([\n",
    "    [0, 0],\n",
    "    [1, 0],\n",
    "    [0, -1],\n",
    "    [-1, 0],\n",
    "    [0, 1]\n",
    "])\n",
    "y = torch.tensor([0, 0, 0, 1, 1])\n",
    "labs = ['x1', 'x2', 'x3', 'x4', 'x5']"
   ]
  },
  {
   "cell_type": "code",
   "execution_count": 3,
   "id": "c16a436b",
   "metadata": {
    "execution": {
     "iopub.execute_input": "2022-10-13T10:40:57.676821Z",
     "iopub.status.busy": "2022-10-13T10:40:57.676502Z",
     "iopub.status.idle": "2022-10-13T10:40:58.055851Z",
     "shell.execute_reply": "2022-10-13T10:40:58.055111Z"
    },
    "pycharm": {
     "name": "#%%\n"
    }
   },
   "outputs": [
    {
     "data": {
      "application/pdf": "[encoded data removed]",
      "image/png": "[encoded data removed]",
      "text/plain": [
       "<Figure size 640x480 with 1 Axes>"
      ]
     },
     "metadata": {},
     "output_type": "display_data"
    }
   ],
   "source": [
    "plt.scatter(x[:, 0], x[:, 1], c=y)\n",
    "for i, lab in enumerate(labs):\n",
    "    plt.annotate(lab, (x[i, 0], x[i, 1]))\n",
    "plt.show()"
   ]
  },
  {
   "cell_type": "markdown",
   "id": "939fb783",
   "metadata": {
    "pycharm": {
     "name": "#%% md\n"
    }
   },
   "source": [
    "Consider a logistic regression model\n",
    "$\\hat{y}_i=\\sigma\\left(\\alpha_0+\\alpha_1x_{i1}+\\alpha_2x_{i2}\\right)$, with\n",
    "$\\sigma(\\cdot)$ the sigmoid function, $\\sigma(x)=\\left(1+e^{-x}\\right)^{-1}$.\n",
    "What values for $\\alpha_0$, $\\alpha_1$ and $\\alpha_2$ would result in the correct\n",
    "classification for this dataset? A positive label is predicted when the output of the\n",
    "sigmoid is larger or equal than 0.5.\n",
    "\n",
    "**Note**: do not use any formulas or automated methods to find the answer.\n",
    "Think for yourself. A logistic regression classifier is nothing more than a hyper-plane\n",
    "separating points of the two classes. If necessary, review vectors, dot-products and\n",
    "their geometrical interpretation in linear algebra. This applies to the following\n",
    "exercises, too.\n",
    "\n",
    "We add a first column of ones, which is used for the 'bias'."
   ]
  },
  {
   "cell_type": "code",
   "execution_count": 4,
   "id": "23190bd2",
   "metadata": {
    "execution": {
     "iopub.execute_input": "2022-10-13T10:40:58.058572Z",
     "iopub.status.busy": "2022-10-13T10:40:58.058181Z",
     "iopub.status.idle": "2022-10-13T10:40:58.061880Z",
     "shell.execute_reply": "2022-10-13T10:40:58.061365Z"
    },
    "pycharm": {
     "name": "#%%\n"
    }
   },
   "outputs": [],
   "source": [
    "x = torch.cat([torch.ones(5, 1), x], dim=1)"
   ]
  },
  {
   "cell_type": "code",
   "execution_count": 5,
   "id": "bf3fe7ed",
   "metadata": {
    "execution": {
     "iopub.execute_input": "2022-10-13T10:40:58.064512Z",
     "iopub.status.busy": "2022-10-13T10:40:58.064211Z",
     "iopub.status.idle": "2022-10-13T10:40:58.071144Z",
     "shell.execute_reply": "2022-10-13T10:40:58.070366Z"
    },
    "pycharm": {
     "name": "#%%\n"
    }
   },
   "outputs": [
    {
     "name": "stdout",
     "output_type": "stream",
     "text": [
      "x1\t0\t6.69e-03\n",
      "x2\t0\t3.06e-07\n",
      "x3\t0\t3.06e-07\n",
      "x4\t1\t9.93e-01\n",
      "x5\t1\t9.93e-01\n"
     ]
    }
   ],
   "source": [
    "a0 = (\n",
    "  -5\n",
    ")\n",
    "\n",
    "a1 = (\n",
    "  -10\n",
    ")\n",
    "\n",
    "a2 = (\n",
    "  10\n",
    ")\n",
    "\n",
    "a = torch.tensor([a0, a1, a2], dtype=torch.float)\n",
    "\n",
    "# We define a custom sigmoid function\n",
    "def sigmoid(x: Tensor) -> Tensor:\n",
    "    return 1 / (1 + torch.exp(-x))\n",
    "\n",
    "# Calculate predictions\n",
    "scores = sigmoid(x @ a)\n",
    "\n",
    "# Let's investigate the obtained scores.\n",
    "def print_scores(target: Tensor, scores: Tensor) -> None:\n",
    "    [print('{}\\t{}\\t{:.2e}'.format('x' + str(i), int(t), float(s)))\n",
    "     for i, (t, s) in enumerate(zip(target, scores), start=1)]\n",
    "\n",
    "print_scores(y, scores)"
   ]
  },
  {
   "cell_type": "markdown",
   "id": "206fbca3",
   "metadata": {
    "pycharm": {
     "name": "#%% md\n"
    }
   },
   "source": [
    "You should make sure that the last two values are close to one and the others\n",
    "are close to zero.\n",
    "\n",
    "**Note:** There are many valid parametrization that lead to a separating hyperplane. How would you prioritize between them?\n",
    "\n",
    "\n",
    "## Exercise 2\n",
    "\n",
    "Continuing from the previous exercise, suppose now that $y_2=y_3=1$ and $y_1=y_4=y_5=0$."
   ]
  },
  {
   "cell_type": "code",
   "execution_count": 6,
   "id": "a55daf60",
   "metadata": {
    "execution": {
     "iopub.execute_input": "2022-10-13T10:40:58.075780Z",
     "iopub.status.busy": "2022-10-13T10:40:58.075309Z",
     "iopub.status.idle": "2022-10-13T10:40:58.079702Z",
     "shell.execute_reply": "2022-10-13T10:40:58.078778Z"
    },
    "pycharm": {
     "name": "#%%\n"
    }
   },
   "outputs": [],
   "source": [
    "y = torch.tensor([0, 1, 1, 0, 0])"
   ]
  },
  {
   "cell_type": "code",
   "execution_count": 7,
   "id": "dc0b3165",
   "metadata": {
    "execution": {
     "iopub.execute_input": "2022-10-13T10:40:58.082610Z",
     "iopub.status.busy": "2022-10-13T10:40:58.082339Z",
     "iopub.status.idle": "2022-10-13T10:40:58.323821Z",
     "shell.execute_reply": "2022-10-13T10:40:58.323305Z"
    },
    "pycharm": {
     "name": "#%%\n"
    }
   },
   "outputs": [
    {
     "data": {
      "application/pdf": "[encoded data removed]",
      "image/png": "[encoded data removed]",
      "text/plain": [
       "<Figure size 640x480 with 1 Axes>"
      ]
     },
     "metadata": {},
     "output_type": "display_data"
    }
   ],
   "source": [
    "plt.scatter(x[:, 1], x[:, 2], c=y)\n",
    "for i, lab in enumerate(labs):\n",
    "    plt.annotate(lab, (x[i, 1], x[i, 2]))\n",
    "plt.show()"
   ]
  },
  {
   "cell_type": "markdown",
   "id": "2945371e",
   "metadata": {
    "pycharm": {
     "name": "#%% md\n"
    }
   },
   "source": [
    "Consider the same logistic regression model above with coefficients $\\beta_0$, $\\beta_1$\n",
    "and $\\beta_2$, how would you need to set these coefficients to correctly classify this\n",
    "dataset?"
   ]
  },
  {
   "cell_type": "code",
   "execution_count": 8,
   "id": "7913d7dc",
   "metadata": {
    "execution": {
     "iopub.execute_input": "2022-10-13T10:40:58.326457Z",
     "iopub.status.busy": "2022-10-13T10:40:58.326085Z",
     "iopub.status.idle": "2022-10-13T10:40:58.330158Z",
     "shell.execute_reply": "2022-10-13T10:40:58.329630Z"
    },
    "pycharm": {
     "name": "#%%\n"
    }
   },
   "outputs": [
    {
     "name": "stdout",
     "output_type": "stream",
     "text": [
      "x1\t0\t6.69e-03\n",
      "x2\t1\t9.93e-01\n",
      "x3\t1\t9.93e-01\n",
      "x4\t0\t3.06e-07\n",
      "x5\t0\t3.06e-07\n"
     ]
    }
   ],
   "source": [
    "b0 = (\n",
    "  -5\n",
    ")\n",
    "\n",
    "b1 = (\n",
    "  10\n",
    ")\n",
    "\n",
    "b2 = (\n",
    "  -10\n",
    ")\n",
    "\n",
    "b = torch.tensor([b0, b1, b2], dtype=torch.float)\n",
    "\n",
    "print_scores(y, sigmoid(x @ b))"
   ]
  },
  {
   "cell_type": "markdown",
   "id": "8635ba14",
   "metadata": {
    "pycharm": {
     "name": "#%% md\n"
    }
   },
   "source": [
    "Make sure that the second and third elements are close to one, and the others close to zero.\n",
    "\n",
    "## Exercise 3\n",
    "\n",
    "Finally, with the same data as before, suppose that $y_1=1$ and $y_2=y_3=y_4=y_5=0$:"
   ]
  },
  {
   "cell_type": "code",
   "execution_count": 9,
   "id": "4000d6c4",
   "metadata": {
    "execution": {
     "iopub.execute_input": "2022-10-13T10:40:58.333521Z",
     "iopub.status.busy": "2022-10-13T10:40:58.333106Z",
     "iopub.status.idle": "2022-10-13T10:40:58.336047Z",
     "shell.execute_reply": "2022-10-13T10:40:58.335621Z"
    },
    "pycharm": {
     "name": "#%%\n"
    }
   },
   "outputs": [],
   "source": [
    "y = torch.tensor([1, 0, 0, 0, 0])"
   ]
  },
  {
   "cell_type": "code",
   "execution_count": 10,
   "id": "c2161ebf",
   "metadata": {
    "execution": {
     "iopub.execute_input": "2022-10-13T10:40:58.357548Z",
     "iopub.status.busy": "2022-10-13T10:40:58.357331Z",
     "iopub.status.idle": "2022-10-13T10:40:58.591971Z",
     "shell.execute_reply": "2022-10-13T10:40:58.591400Z"
    },
    "pycharm": {
     "name": "#%%\n"
    }
   },
   "outputs": [
    {
     "data": {
      "application/pdf": "[encoded data removed]",
      "image/png": "[encoded data removed]",
      "text/plain": [
       "<Figure size 640x480 with 1 Axes>"
      ]
     },
     "metadata": {},
     "output_type": "display_data"
    }
   ],
   "source": [
    "plt.scatter(x[:, 1], x[:, 2], c=y, label=y)\n",
    "for i, lab in enumerate(labs):\n",
    "    plt.annotate(lab, (x[i, 1], x[i, 2]))\n",
    "plt.show()"
   ]
  },
  {
   "cell_type": "markdown",
   "id": "496ba00d",
   "metadata": {
    "pycharm": {
     "name": "#%% md\n"
    }
   },
   "source": [
    "Clearly, logistic regression cannot correctly classify this dataset, since the two classes are not linearly separable (optional: prove it, see solution at the bottom).\n",
    "\n",
    "However, as we have shown in the previous exercises, it is possible to separate $x_2$ and $x_3$ from the rest, and $x_4$ and $x_5$ from the rest.\n",
    "\n",
    "Can these two simple classifiers be composed into one that is powerful enough to separate $x_1$ from the rest?\n",
    "\n",
    "Can we use their predictions as input for another logistic regression classifier?\n",
    "\n",
    "Let $z_{i1}=\\sigma(\\alpha_0+\\alpha_1x_{i1}+\\alpha_2x_{i2})$ and $z_{i2}=\\sigma(\\beta_0+\\beta_1x_{i1}+\\beta_2x_{i2})$ be the output of the two logistic regression classifiers for point $i$. Then, the dataset would become:\n",
    "\n",
    "| $i$ | $z_{i1}$ | $z_{i2}$ | $y$ |\n",
    "|-----:|:----------:|:----------:|:-----|\n",
    "| $1$ |        0 |        0 |   1 |\n",
    "| $2$ |        0 |        1 |   0 |\n",
    "| $3$ |        0 |        1 |   0 |\n",
    "| $4$ |        1 |        0 |   0 |\n",
    "| $5$ |        1 |        0 |   0 |\n",
    "\n",
    "In graphical form:"
   ]
  },
  {
   "cell_type": "code",
   "execution_count": 11,
   "id": "9c65c34a",
   "metadata": {
    "execution": {
     "iopub.execute_input": "2022-10-13T10:40:58.594677Z",
     "iopub.status.busy": "2022-10-13T10:40:58.594469Z",
     "iopub.status.idle": "2022-10-13T10:40:58.792448Z",
     "shell.execute_reply": "2022-10-13T10:40:58.792017Z"
    },
    "pycharm": {
     "name": "#%%\n"
    }
   },
   "outputs": [
    {
     "data": {
      "application/pdf": "[encoded data removed]",
      "image/png": "[encoded data removed]",
      "text/plain": [
       "<Figure size 640x480 with 1 Axes>"
      ]
     },
     "metadata": {},
     "output_type": "display_data"
    }
   ],
   "source": [
    "x_axis = [0, 0, 1]\n",
    "y_axis = [0, 1, 0]\n",
    "plt.scatter(x_axis, y_axis, c=[1, 0, 0])\n",
    "for i, lab in enumerate(['x1', 'x2 = x3', 'x4 = x5']):\n",
    "    plt.annotate(lab, (x_axis[i], y_axis[i]))\n",
    "plt.show()"
   ]
  },
  {
   "cell_type": "markdown",
   "id": "111221d3",
   "metadata": {
    "pycharm": {
     "name": "#%% md\n"
    }
   },
   "source": [
    "This sure looks linearly separable! As before, find the coefficients for a linear\n",
    "classifier $\\hat{y}_i=\\sigma\\left(\\gamma_0+\\gamma_1z_{i1}+\\gamma_2z_{i2}\\right)$:"
   ]
  },
  {
   "cell_type": "code",
   "execution_count": 12,
   "id": "0e0f1ddb",
   "metadata": {
    "execution": {
     "iopub.execute_input": "2022-10-13T10:40:58.794981Z",
     "iopub.status.busy": "2022-10-13T10:40:58.794782Z",
     "iopub.status.idle": "2022-10-13T10:40:58.798941Z",
     "shell.execute_reply": "2022-10-13T10:40:58.798431Z"
    },
    "pycharm": {
     "name": "#%%\n"
    }
   },
   "outputs": [
    {
     "name": "stdout",
     "output_type": "stream",
     "text": [
      "x1\t1\t9.93e-01\n",
      "x2\t0\t6.69e-03\n",
      "x3\t0\t6.69e-03\n",
      "x4\t0\t6.69e-03\n",
      "x5\t0\t6.69e-03\n"
     ]
    }
   ],
   "source": [
    "g0 = (\n",
    "  5\n",
    ")\n",
    "\n",
    "g1 = (\n",
    "  -10\n",
    ")\n",
    "\n",
    "g2 = (\n",
    "  -10\n",
    ")\n",
    "\n",
    "g = torch.tensor([g0, g1, g2], dtype=torch.float)\n",
    "\n",
    "z = torch.tensor([\n",
    "  [1, 0, 0,],\n",
    "  [1, 0, 1,],\n",
    "  [1, 0, 1,],\n",
    "  [1, 1, 0,],\n",
    "  [1, 1, 0]\n",
    "], dtype=torch.float)\n",
    "\n",
    "print_scores(y, sigmoid(z @ g))"
   ]
  },
  {
   "cell_type": "markdown",
   "id": "2372d04e",
   "metadata": {
    "pycharm": {
     "name": "#%% md\n"
    }
   },
   "source": [
    "Make sure that the first element is close to one, and the others close to zero.\n",
    "\n",
    "This big classifier can be summarized as follows:"
   ]
  },
  {
   "cell_type": "code",
   "execution_count": 13,
   "id": "55f981e2",
   "metadata": {
    "execution": {
     "iopub.execute_input": "2022-10-13T10:40:58.801514Z",
     "iopub.status.busy": "2022-10-13T10:40:58.801336Z",
     "iopub.status.idle": "2022-10-13T10:40:58.805651Z",
     "shell.execute_reply": "2022-10-13T10:40:58.804730Z"
    },
    "pycharm": {
     "name": "#%%\n"
    }
   },
   "outputs": [
    {
     "name": "stdout",
     "output_type": "stream",
     "text": [
      "x1\t1\t9.92e-01\n",
      "x2\t0\t7.15e-03\n",
      "x3\t0\t7.15e-03\n",
      "x4\t0\t7.15e-03\n",
      "x5\t0\t7.15e-03\n"
     ]
    }
   ],
   "source": [
    "z1 = sigmoid(x @ a)\n",
    "z2 = sigmoid(x @ b)\n",
    "\n",
    "print_scores(y, sigmoid(g0 + g1 * z1 + g2 * z2))"
   ]
  },
  {
   "cell_type": "markdown",
   "id": "417ecdf1",
   "metadata": {
    "pycharm": {
     "name": "#%% md\n"
    }
   },
   "source": [
    "And this is just what a neural network looks like!\n",
    "Each neuron is a simple linear classifier, and we just stack linear classifiers on\n",
    "top of linear classifiers. And we could go on and on, with many layers of linear\n",
    "classifiers."
   ]
  }
 ],
 "metadata": {
  "kernelspec": {
   "display_name": "Python 3.9.13 ('imenepy')",
   "language": "python",
   "name": "python3"
  },
  "language_info": {
   "codemirror_mode": {
    "name": "ipython",
    "version": 3
   },
   "file_extension": ".py",
   "mimetype": "text/x-python",
   "name": "python",
   "nbconvert_exporter": "python",
   "pygments_lexer": "ipython3",
   "version": "3.9.13"
  },
  "vscode": {
   "interpreter": {
    "hash": "a504093cd48dbf41332b0076d682ce93e05d52a892a597f2a787966ee958626a"
   }
  }
 },
 "nbformat": 4,
 "nbformat_minor": 5
}
